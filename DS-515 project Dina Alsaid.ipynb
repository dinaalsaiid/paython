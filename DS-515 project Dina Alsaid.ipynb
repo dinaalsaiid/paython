{
 "cells": [
  {
   "cell_type": "markdown",
   "metadata": {},
   "source": [
    "# CPC's farms mortality Data Analysis"
   ]
  },
  {
   "cell_type": "markdown",
   "metadata": {},
   "source": [
    "# 1- Data describtion "
   ]
  },
  {
   "cell_type": "markdown",
   "metadata": {},
   "source": [
    "### A)Data period from Jan 2015 to Dec 2020"
   ]
  },
  {
   "cell_type": "markdown",
   "metadata": {},
   "source": [
    "### B) data were gathered from m-tech database program following reports\n",
    "##### 1- cpc brim weekley broiler summary by area\n",
    "##### 2- flockes pleasment dinsity and total cycle time"
   ]
  },
  {
   "cell_type": "markdown",
   "metadata": {},
   "source": [
    "### C) Attrebutes describtion"
   ]
  },
  {
   "cell_type": "markdown",
   "metadata": {},
   "source": [
    "Date Sold: last date in sales prosses\n",
    "\n",
    "Farm No: the farm name\n",
    "\n",
    "House No: \n",
    "\n",
    "Hatch Hatchery: hatchery chicks resieved from at placment time\n",
    "\n",
    "Placement Density:  (chicks placement on m2)\n",
    "\n",
    "Avg Chick Wt: Weight of chick at placment day\n",
    "\n",
    "Total Farm Head sold: nomber of chicken sold at the end of the farm period\n",
    "\n",
    "Weight Sold (Farm): averge chicken Weight in selling period \n",
    "\n",
    "Age - End of Sales: \n",
    "\n",
    "Avg Chick Cost\n",
    "\n",
    "Head Sold Koki (farm)\n",
    "\n",
    "Head Sold Market\n",
    "\n",
    "Head Placed: number of chicks placed at begining of farm\n",
    "\n",
    "Avg Wt Sold (farm)\n",
    "\n",
    "Total Mortality Dead : total mortality for every house at end of period\n",
    "\n",
    "Feed Conversion CPC: how many grams gained per every kilo of food \n",
    "\n",
    "Broiler Index CPC: feed convertion / Daily Wt Gain\n",
    "\n",
    "Daily Wt Gain\n"
   ]
  },
  {
   "cell_type": "markdown",
   "metadata": {},
   "source": [
    "# 1- Data Wrangling\n",
    "\n",
    "\n",
    "## Objectives\n",
    "\n",
    "\n",
    "-   Handle missing values\n",
    "-   Correct data format\n",
    "-   Standardize and Normalize Data "
   ]
  },
  {
   "cell_type": "markdown",
   "metadata": {},
   "source": [
    "## A- Reading and cleaning the dataset"
   ]
  },
  {
   "cell_type": "code",
   "execution_count": 1,
   "metadata": {},
   "outputs": [],
   "source": [
    "import pandas as pd\n",
    "import numpy as np \n",
    "import matplotlib.pyplot as plt\n",
    "import seaborn as sns\n",
    "from scipy import stats"
   ]
  },
  {
   "cell_type": "code",
   "execution_count": 2,
   "metadata": {},
   "outputs": [
    {
     "data": {
      "text/html": [
       "<div>\n",
       "<style scoped>\n",
       "    .dataframe tbody tr th:only-of-type {\n",
       "        vertical-align: middle;\n",
       "    }\n",
       "\n",
       "    .dataframe tbody tr th {\n",
       "        vertical-align: top;\n",
       "    }\n",
       "\n",
       "    .dataframe thead th {\n",
       "        text-align: right;\n",
       "    }\n",
       "</style>\n",
       "<table border=\"1\" class=\"dataframe\">\n",
       "  <thead>\n",
       "    <tr style=\"text-align: right;\">\n",
       "      <th></th>\n",
       "      <th>Month</th>\n",
       "      <th>Unnamed: 1</th>\n",
       "      <th>Year</th>\n",
       "      <th>First Date Placed</th>\n",
       "      <th>Date Sold</th>\n",
       "      <th>Complex Entity No</th>\n",
       "      <th>Farm No</th>\n",
       "      <th>House No</th>\n",
       "      <th>Entity No</th>\n",
       "      <th>Hatch Hatchery List</th>\n",
       "      <th>...</th>\n",
       "      <th>Age - End of Sales</th>\n",
       "      <th>Avg Chick Cost</th>\n",
       "      <th>Head Sold Koki (farm)</th>\n",
       "      <th>Head Sold Market</th>\n",
       "      <th>Head Placed</th>\n",
       "      <th>Avg Wt Sold (farm)</th>\n",
       "      <th>Total Mortality Dead</th>\n",
       "      <th>Feed Conversion CPC</th>\n",
       "      <th>Broiler Index CPC</th>\n",
       "      <th>Daily Wt Gain</th>\n",
       "    </tr>\n",
       "  </thead>\n",
       "  <tbody>\n",
       "    <tr>\n",
       "      <th>0</th>\n",
       "      <td>Growout Name: Nobaria broiler</td>\n",
       "      <td>NaN</td>\n",
       "      <td>NaN</td>\n",
       "      <td>NaN</td>\n",
       "      <td>NaN</td>\n",
       "      <td>NaN</td>\n",
       "      <td>NaN</td>\n",
       "      <td>NaN</td>\n",
       "      <td>NaN</td>\n",
       "      <td>NaN</td>\n",
       "      <td>...</td>\n",
       "      <td>NaN</td>\n",
       "      <td>NaN</td>\n",
       "      <td>NaN</td>\n",
       "      <td>NaN</td>\n",
       "      <td>NaN</td>\n",
       "      <td>NaN</td>\n",
       "      <td>NaN</td>\n",
       "      <td>NaN</td>\n",
       "      <td>NaN</td>\n",
       "      <td>NaN</td>\n",
       "    </tr>\n",
       "    <tr>\n",
       "      <th>1</th>\n",
       "      <td>NaN</td>\n",
       "      <td>10.0</td>\n",
       "      <td>2020.0</td>\n",
       "      <td>24/10/2020</td>\n",
       "      <td>25/11/2020</td>\n",
       "      <td>NOB19-117-H20</td>\n",
       "      <td>NOB19</td>\n",
       "      <td>H20</td>\n",
       "      <td>117.0</td>\n",
       "      <td>RAMBH</td>\n",
       "      <td>...</td>\n",
       "      <td>32.0</td>\n",
       "      <td>7.75</td>\n",
       "      <td>0</td>\n",
       "      <td>15,160</td>\n",
       "      <td>16,825</td>\n",
       "      <td>1.668</td>\n",
       "      <td>1530.0</td>\n",
       "      <td>1.61</td>\n",
       "      <td>308.00</td>\n",
       "      <td>0.054</td>\n",
       "    </tr>\n",
       "    <tr>\n",
       "      <th>2</th>\n",
       "      <td>NaN</td>\n",
       "      <td>10.0</td>\n",
       "      <td>2020.0</td>\n",
       "      <td>24/10/2020</td>\n",
       "      <td>25/11/2020</td>\n",
       "      <td>NOB19-117-H19</td>\n",
       "      <td>NOB19</td>\n",
       "      <td>H19</td>\n",
       "      <td>117.0</td>\n",
       "      <td>RAMBH</td>\n",
       "      <td>...</td>\n",
       "      <td>32.0</td>\n",
       "      <td>7.75</td>\n",
       "      <td>0</td>\n",
       "      <td>14,960</td>\n",
       "      <td>16,825</td>\n",
       "      <td>1.584</td>\n",
       "      <td>1630.0</td>\n",
       "      <td>1.62</td>\n",
       "      <td>276.12</td>\n",
       "      <td>0.049</td>\n",
       "    </tr>\n",
       "    <tr>\n",
       "      <th>3</th>\n",
       "      <td>NaN</td>\n",
       "      <td>10.0</td>\n",
       "      <td>2020.0</td>\n",
       "      <td>24/10/2020</td>\n",
       "      <td>25/11/2020</td>\n",
       "      <td>NOB19-117-H18</td>\n",
       "      <td>NOB19</td>\n",
       "      <td>H18</td>\n",
       "      <td>117.0</td>\n",
       "      <td>RAMBH</td>\n",
       "      <td>...</td>\n",
       "      <td>32.0</td>\n",
       "      <td>7.75</td>\n",
       "      <td>0</td>\n",
       "      <td>15,230</td>\n",
       "      <td>16,825</td>\n",
       "      <td>1.617</td>\n",
       "      <td>1482.0</td>\n",
       "      <td>1.61</td>\n",
       "      <td>292.89</td>\n",
       "      <td>0.051</td>\n",
       "    </tr>\n",
       "    <tr>\n",
       "      <th>4</th>\n",
       "      <td>NaN</td>\n",
       "      <td>10.0</td>\n",
       "      <td>2020.0</td>\n",
       "      <td>24/10/2020</td>\n",
       "      <td>25/11/2020</td>\n",
       "      <td>NOB19-117-H17</td>\n",
       "      <td>NOB19</td>\n",
       "      <td>H17</td>\n",
       "      <td>117.0</td>\n",
       "      <td>RAMBH</td>\n",
       "      <td>...</td>\n",
       "      <td>32.0</td>\n",
       "      <td>7.75</td>\n",
       "      <td>0</td>\n",
       "      <td>15,200</td>\n",
       "      <td>16,825</td>\n",
       "      <td>1.632</td>\n",
       "      <td>1324.0</td>\n",
       "      <td>1.62</td>\n",
       "      <td>288.55</td>\n",
       "      <td>0.051</td>\n",
       "    </tr>\n",
       "    <tr>\n",
       "      <th>...</th>\n",
       "      <td>...</td>\n",
       "      <td>...</td>\n",
       "      <td>...</td>\n",
       "      <td>...</td>\n",
       "      <td>...</td>\n",
       "      <td>...</td>\n",
       "      <td>...</td>\n",
       "      <td>...</td>\n",
       "      <td>...</td>\n",
       "      <td>...</td>\n",
       "      <td>...</td>\n",
       "      <td>...</td>\n",
       "      <td>...</td>\n",
       "      <td>...</td>\n",
       "      <td>...</td>\n",
       "      <td>...</td>\n",
       "      <td>...</td>\n",
       "      <td>...</td>\n",
       "      <td>...</td>\n",
       "      <td>...</td>\n",
       "      <td>...</td>\n",
       "    </tr>\n",
       "    <tr>\n",
       "      <th>12798</th>\n",
       "      <td>NaN</td>\n",
       "      <td>12.0</td>\n",
       "      <td>2014.0</td>\n",
       "      <td>04/12/2014</td>\n",
       "      <td>06/01/2015</td>\n",
       "      <td>SAF01-101-H01</td>\n",
       "      <td>SAF01</td>\n",
       "      <td>H01</td>\n",
       "      <td>101.0</td>\n",
       "      <td>NOBBH</td>\n",
       "      <td>...</td>\n",
       "      <td>33.0</td>\n",
       "      <td>3.00</td>\n",
       "      <td>12,380</td>\n",
       "      <td>0</td>\n",
       "      <td>13,200</td>\n",
       "      <td>1.639</td>\n",
       "      <td>820.0</td>\n",
       "      <td>1.63</td>\n",
       "      <td>290.80</td>\n",
       "      <td>0.050</td>\n",
       "    </tr>\n",
       "    <tr>\n",
       "      <th>12799</th>\n",
       "      <td>NaN</td>\n",
       "      <td>NaN</td>\n",
       "      <td>NaN</td>\n",
       "      <td>NaN</td>\n",
       "      <td>NaN</td>\n",
       "      <td>NaN</td>\n",
       "      <td>NaN</td>\n",
       "      <td>NaN</td>\n",
       "      <td>NaN</td>\n",
       "      <td>NaN</td>\n",
       "      <td>...</td>\n",
       "      <td>NaN</td>\n",
       "      <td>NaN</td>\n",
       "      <td>NaN</td>\n",
       "      <td>NaN</td>\n",
       "      <td>NaN</td>\n",
       "      <td>NaN</td>\n",
       "      <td>NaN</td>\n",
       "      <td>NaN</td>\n",
       "      <td>NaN</td>\n",
       "      <td>NaN</td>\n",
       "    </tr>\n",
       "    <tr>\n",
       "      <th>12800</th>\n",
       "      <td>NaN</td>\n",
       "      <td>NaN</td>\n",
       "      <td>NaN</td>\n",
       "      <td>NaN</td>\n",
       "      <td>NaN</td>\n",
       "      <td>NaN</td>\n",
       "      <td>NaN</td>\n",
       "      <td>NaN</td>\n",
       "      <td>NaN</td>\n",
       "      <td>NaN</td>\n",
       "      <td>...</td>\n",
       "      <td>NaN</td>\n",
       "      <td>NaN</td>\n",
       "      <td>NaN</td>\n",
       "      <td>NaN</td>\n",
       "      <td>31,405,911</td>\n",
       "      <td>1.625</td>\n",
       "      <td>NaN</td>\n",
       "      <td>1.57</td>\n",
       "      <td>304.04</td>\n",
       "      <td>0.052</td>\n",
       "    </tr>\n",
       "    <tr>\n",
       "      <th>12801</th>\n",
       "      <td>NaN</td>\n",
       "      <td>NaN</td>\n",
       "      <td>NaN</td>\n",
       "      <td>NaN</td>\n",
       "      <td>NaN</td>\n",
       "      <td>NaN</td>\n",
       "      <td>NaN</td>\n",
       "      <td>NaN</td>\n",
       "      <td>NaN</td>\n",
       "      <td>NaN</td>\n",
       "      <td>...</td>\n",
       "      <td>NaN</td>\n",
       "      <td>NaN</td>\n",
       "      <td>NaN</td>\n",
       "      <td>NaN</td>\n",
       "      <td>NaN</td>\n",
       "      <td>NaN</td>\n",
       "      <td>NaN</td>\n",
       "      <td>NaN</td>\n",
       "      <td>NaN</td>\n",
       "      <td>NaN</td>\n",
       "    </tr>\n",
       "    <tr>\n",
       "      <th>12802</th>\n",
       "      <td>NaN</td>\n",
       "      <td>NaN</td>\n",
       "      <td>NaN</td>\n",
       "      <td>NaN</td>\n",
       "      <td>NaN</td>\n",
       "      <td>NaN</td>\n",
       "      <td>NaN</td>\n",
       "      <td>NaN</td>\n",
       "      <td>NaN</td>\n",
       "      <td>NaN</td>\n",
       "      <td>...</td>\n",
       "      <td>NaN</td>\n",
       "      <td>NaN</td>\n",
       "      <td>NaN</td>\n",
       "      <td>NaN</td>\n",
       "      <td>249,930,299</td>\n",
       "      <td>1.660</td>\n",
       "      <td>NaN</td>\n",
       "      <td>1.56</td>\n",
       "      <td>312.81</td>\n",
       "      <td>0.053</td>\n",
       "    </tr>\n",
       "  </tbody>\n",
       "</table>\n",
       "<p>12803 rows × 24 columns</p>\n",
       "</div>"
      ],
      "text/plain": [
       "                               Month  Unnamed: 1    Year First Date Placed  \\\n",
       "0      Growout Name: Nobaria broiler         NaN     NaN               NaN   \n",
       "1                                NaN        10.0  2020.0        24/10/2020   \n",
       "2                                NaN        10.0  2020.0        24/10/2020   \n",
       "3                                NaN        10.0  2020.0        24/10/2020   \n",
       "4                                NaN        10.0  2020.0        24/10/2020   \n",
       "...                              ...         ...     ...               ...   \n",
       "12798                            NaN        12.0  2014.0        04/12/2014   \n",
       "12799                            NaN         NaN     NaN               NaN   \n",
       "12800                            NaN         NaN     NaN               NaN   \n",
       "12801                            NaN         NaN     NaN               NaN   \n",
       "12802                            NaN         NaN     NaN               NaN   \n",
       "\n",
       "        Date Sold Complex Entity No Farm No House No  Entity No  \\\n",
       "0             NaN               NaN     NaN      NaN        NaN   \n",
       "1      25/11/2020     NOB19-117-H20   NOB19      H20      117.0   \n",
       "2      25/11/2020     NOB19-117-H19   NOB19      H19      117.0   \n",
       "3      25/11/2020     NOB19-117-H18   NOB19      H18      117.0   \n",
       "4      25/11/2020     NOB19-117-H17   NOB19      H17      117.0   \n",
       "...           ...               ...     ...      ...        ...   \n",
       "12798  06/01/2015     SAF01-101-H01   SAF01      H01      101.0   \n",
       "12799         NaN               NaN     NaN      NaN        NaN   \n",
       "12800         NaN               NaN     NaN      NaN        NaN   \n",
       "12801         NaN               NaN     NaN      NaN        NaN   \n",
       "12802         NaN               NaN     NaN      NaN        NaN   \n",
       "\n",
       "      Hatch Hatchery List  ...  Age - End of Sales  Avg Chick Cost  \\\n",
       "0                     NaN  ...                 NaN             NaN   \n",
       "1                   RAMBH  ...                32.0            7.75   \n",
       "2                   RAMBH  ...                32.0            7.75   \n",
       "3                   RAMBH  ...                32.0            7.75   \n",
       "4                   RAMBH  ...                32.0            7.75   \n",
       "...                   ...  ...                 ...             ...   \n",
       "12798               NOBBH  ...                33.0            3.00   \n",
       "12799                 NaN  ...                 NaN             NaN   \n",
       "12800                 NaN  ...                 NaN             NaN   \n",
       "12801                 NaN  ...                 NaN             NaN   \n",
       "12802                 NaN  ...                 NaN             NaN   \n",
       "\n",
       "      Head Sold Koki (farm) Head Sold Market  Head Placed  Avg Wt Sold (farm)  \\\n",
       "0                       NaN              NaN          NaN                 NaN   \n",
       "1                         0           15,160       16,825               1.668   \n",
       "2                         0           14,960       16,825               1.584   \n",
       "3                         0           15,230       16,825               1.617   \n",
       "4                         0           15,200       16,825               1.632   \n",
       "...                     ...              ...          ...                 ...   \n",
       "12798                12,380                0       13,200               1.639   \n",
       "12799                   NaN              NaN          NaN                 NaN   \n",
       "12800                   NaN              NaN   31,405,911               1.625   \n",
       "12801                   NaN              NaN          NaN                 NaN   \n",
       "12802                   NaN              NaN  249,930,299               1.660   \n",
       "\n",
       "      Total Mortality Dead Feed Conversion CPC Broiler Index CPC  \\\n",
       "0                      NaN                 NaN               NaN   \n",
       "1                   1530.0                1.61            308.00   \n",
       "2                   1630.0                1.62            276.12   \n",
       "3                   1482.0                1.61            292.89   \n",
       "4                   1324.0                1.62            288.55   \n",
       "...                    ...                 ...               ...   \n",
       "12798                820.0                1.63            290.80   \n",
       "12799                  NaN                 NaN               NaN   \n",
       "12800                  NaN                1.57            304.04   \n",
       "12801                  NaN                 NaN               NaN   \n",
       "12802                  NaN                1.56            312.81   \n",
       "\n",
       "       Daily Wt Gain  \n",
       "0                NaN  \n",
       "1              0.054  \n",
       "2              0.049  \n",
       "3              0.051  \n",
       "4              0.051  \n",
       "...              ...  \n",
       "12798          0.050  \n",
       "12799            NaN  \n",
       "12800          0.052  \n",
       "12801            NaN  \n",
       "12802          0.053  \n",
       "\n",
       "[12803 rows x 24 columns]"
      ]
     },
     "execution_count": 2,
     "metadata": {},
     "output_type": "execute_result"
    }
   ],
   "source": [
    "broiler_summary_ds = pd.read_csv('broiler_summary_ds.csv')\n",
    "dinsity_ds = pd.read_csv('dinsity_ds.csv')\n",
    "broiler_summary_ds"
   ]
  },
  {
   "cell_type": "markdown",
   "metadata": {},
   "source": [
    "#### a)drop unwanted columns and rows"
   ]
  },
  {
   "cell_type": "code",
   "execution_count": 3,
   "metadata": {},
   "outputs": [],
   "source": [
    "#drop unwanted columns\n",
    "broiler_summary_ds.drop([\"Month\", \"Unnamed: 1\", ], axis=1, inplace=True)"
   ]
  },
  {
   "cell_type": "code",
   "execution_count": 4,
   "metadata": {},
   "outputs": [],
   "source": [
    "dinsity_ds.drop(dinsity_ds.columns[0:4], axis=1, inplace=True)"
   ]
  },
  {
   "cell_type": "code",
   "execution_count": 5,
   "metadata": {},
   "outputs": [],
   "source": [
    "dinsity_ds.drop(dinsity_ds.columns[1:6], axis=1, inplace=True)"
   ]
  },
  {
   "cell_type": "code",
   "execution_count": 6,
   "metadata": {},
   "outputs": [],
   "source": [
    "dinsity_ds.drop(dinsity_ds.columns[2:6], axis=1, inplace=True)"
   ]
  },
  {
   "cell_type": "code",
   "execution_count": 7,
   "metadata": {},
   "outputs": [],
   "source": [
    "dinsity_ds.drop(dinsity_ds.columns[3:6], axis=1, inplace=True)"
   ]
  },
  {
   "cell_type": "code",
   "execution_count": 8,
   "metadata": {},
   "outputs": [],
   "source": [
    "#drop unwanted rows\n",
    "dinsity_ds.drop(dinsity_ds.index[:3], inplace=True) \n",
    "broiler_summary_ds.drop(broiler_summary_ds.loc[broiler_summary_ds['Hatch Hatchery List']=='CARGPH'].index, inplace=True)\n",
    "broiler_summary_ds.drop(broiler_summary_ds.loc[broiler_summary_ds['Hatch Hatchery List']=='NOBBH, RAMBH'].index, inplace=True)\n",
    "broiler_summary_ds.drop(broiler_summary_ds.loc[broiler_summary_ds['Hatch Hatchery List']=='MSRGPH'].index, inplace=True)\n",
    "broiler_summary_ds.drop(broiler_summary_ds.loc[broiler_summary_ds['Hatch Hatchery List']== 'EXTHATCHLOC'].index, inplace=True)"
   ]
  },
  {
   "cell_type": "markdown",
   "metadata": {},
   "source": [
    "#### b) make first row of dinsity_ds the header of thr dataframe"
   ]
  },
  {
   "cell_type": "code",
   "execution_count": 9,
   "metadata": {},
   "outputs": [],
   "source": [
    "#make first row of dinsity_ds the header of thr dataframe\n",
    "new_header = dinsity_ds.iloc[0] #grab the first row for the header\n",
    "dinsity_ds = dinsity_ds[1:] #take the data less the header row\n",
    "dinsity_ds.columns = new_header #set the header row as the df header"
   ]
  },
  {
   "cell_type": "markdown",
   "metadata": {},
   "source": [
    "#### c)merge the two tables in one dataframe"
   ]
  },
  {
   "cell_type": "code",
   "execution_count": 10,
   "metadata": {},
   "outputs": [
    {
     "data": {
      "text/html": [
       "<div>\n",
       "<style scoped>\n",
       "    .dataframe tbody tr th:only-of-type {\n",
       "        vertical-align: middle;\n",
       "    }\n",
       "\n",
       "    .dataframe tbody tr th {\n",
       "        vertical-align: top;\n",
       "    }\n",
       "\n",
       "    .dataframe thead th {\n",
       "        text-align: right;\n",
       "    }\n",
       "</style>\n",
       "<table border=\"1\" class=\"dataframe\">\n",
       "  <thead>\n",
       "    <tr style=\"text-align: right;\">\n",
       "      <th></th>\n",
       "      <th>Year</th>\n",
       "      <th>First Date Placed_x</th>\n",
       "      <th>Date Sold_x</th>\n",
       "      <th>Complex Entity No</th>\n",
       "      <th>Farm No</th>\n",
       "      <th>House No</th>\n",
       "      <th>Entity No</th>\n",
       "      <th>Hatch Hatchery List</th>\n",
       "      <th>Placement Density (chicks/m2)</th>\n",
       "      <th>Avg Chick Wt</th>\n",
       "      <th>...</th>\n",
       "      <th>Cleaning period</th>\n",
       "      <th>Age at end of Sales CPC</th>\n",
       "      <th>Age at end of Sales CPC-MAX</th>\n",
       "      <th>AVG (Feed Additives) per K.g</th>\n",
       "      <th>AVG (Med) Others Per K.g</th>\n",
       "      <th>AVG Anntibtics Per K.g</th>\n",
       "      <th>AVG Disinfectant Per K.g</th>\n",
       "      <th>AVG Feed Additives Per K.g</th>\n",
       "      <th>AVG Vaccination Per K.g</th>\n",
       "      <th>AVG Vitamins Per K.g</th>\n",
       "    </tr>\n",
       "  </thead>\n",
       "  <tbody>\n",
       "    <tr>\n",
       "      <th>0</th>\n",
       "      <td>NaN</td>\n",
       "      <td>NaN</td>\n",
       "      <td>NaN</td>\n",
       "      <td>NaN</td>\n",
       "      <td>NaN</td>\n",
       "      <td>NaN</td>\n",
       "      <td>NaN</td>\n",
       "      <td>NaN</td>\n",
       "      <td>NaN</td>\n",
       "      <td>NaN</td>\n",
       "      <td>...</td>\n",
       "      <td>6019</td>\n",
       "      <td>32.20</td>\n",
       "      <td>36.5</td>\n",
       "      <td>0.000</td>\n",
       "      <td>11.320</td>\n",
       "      <td>32.192</td>\n",
       "      <td>16.833</td>\n",
       "      <td>16.237</td>\n",
       "      <td>67.270</td>\n",
       "      <td>7.925</td>\n",
       "    </tr>\n",
       "    <tr>\n",
       "      <th>1</th>\n",
       "      <td>NaN</td>\n",
       "      <td>NaN</td>\n",
       "      <td>NaN</td>\n",
       "      <td>NaN</td>\n",
       "      <td>NaN</td>\n",
       "      <td>NaN</td>\n",
       "      <td>NaN</td>\n",
       "      <td>NaN</td>\n",
       "      <td>NaN</td>\n",
       "      <td>NaN</td>\n",
       "      <td>...</td>\n",
       "      <td>7672</td>\n",
       "      <td>32.77</td>\n",
       "      <td>36.5</td>\n",
       "      <td>0.000</td>\n",
       "      <td>8.796</td>\n",
       "      <td>31.136</td>\n",
       "      <td>17.342</td>\n",
       "      <td>18.343</td>\n",
       "      <td>67.657</td>\n",
       "      <td>7.071</td>\n",
       "    </tr>\n",
       "    <tr>\n",
       "      <th>2</th>\n",
       "      <td>NaN</td>\n",
       "      <td>NaN</td>\n",
       "      <td>NaN</td>\n",
       "      <td>NaN</td>\n",
       "      <td>NaN</td>\n",
       "      <td>NaN</td>\n",
       "      <td>NaN</td>\n",
       "      <td>NaN</td>\n",
       "      <td>NaN</td>\n",
       "      <td>NaN</td>\n",
       "      <td>...</td>\n",
       "      <td>6903</td>\n",
       "      <td>32.37</td>\n",
       "      <td>36.5</td>\n",
       "      <td>0.000</td>\n",
       "      <td>9.448</td>\n",
       "      <td>33.662</td>\n",
       "      <td>17.830</td>\n",
       "      <td>17.235</td>\n",
       "      <td>66.553</td>\n",
       "      <td>7.929</td>\n",
       "    </tr>\n",
       "    <tr>\n",
       "      <th>3</th>\n",
       "      <td>NaN</td>\n",
       "      <td>NaN</td>\n",
       "      <td>NaN</td>\n",
       "      <td>NaN</td>\n",
       "      <td>NaN</td>\n",
       "      <td>NaN</td>\n",
       "      <td>NaN</td>\n",
       "      <td>NaN</td>\n",
       "      <td>NaN</td>\n",
       "      <td>NaN</td>\n",
       "      <td>...</td>\n",
       "      <td>7736</td>\n",
       "      <td>32.53</td>\n",
       "      <td>36.5</td>\n",
       "      <td>0.000</td>\n",
       "      <td>9.129</td>\n",
       "      <td>33.754</td>\n",
       "      <td>18.422</td>\n",
       "      <td>16.373</td>\n",
       "      <td>69.802</td>\n",
       "      <td>6.966</td>\n",
       "    </tr>\n",
       "    <tr>\n",
       "      <th>4</th>\n",
       "      <td>NaN</td>\n",
       "      <td>NaN</td>\n",
       "      <td>NaN</td>\n",
       "      <td>NaN</td>\n",
       "      <td>NaN</td>\n",
       "      <td>NaN</td>\n",
       "      <td>NaN</td>\n",
       "      <td>NaN</td>\n",
       "      <td>NaN</td>\n",
       "      <td>NaN</td>\n",
       "      <td>...</td>\n",
       "      <td>6741</td>\n",
       "      <td>32.60</td>\n",
       "      <td>36.5</td>\n",
       "      <td>0.000</td>\n",
       "      <td>7.881</td>\n",
       "      <td>35.145</td>\n",
       "      <td>21.487</td>\n",
       "      <td>16.415</td>\n",
       "      <td>68.162</td>\n",
       "      <td>7.889</td>\n",
       "    </tr>\n",
       "    <tr>\n",
       "      <th>...</th>\n",
       "      <td>...</td>\n",
       "      <td>...</td>\n",
       "      <td>...</td>\n",
       "      <td>...</td>\n",
       "      <td>...</td>\n",
       "      <td>...</td>\n",
       "      <td>...</td>\n",
       "      <td>...</td>\n",
       "      <td>...</td>\n",
       "      <td>...</td>\n",
       "      <td>...</td>\n",
       "      <td>...</td>\n",
       "      <td>...</td>\n",
       "      <td>...</td>\n",
       "      <td>...</td>\n",
       "      <td>...</td>\n",
       "      <td>...</td>\n",
       "      <td>...</td>\n",
       "      <td>...</td>\n",
       "      <td>...</td>\n",
       "      <td>...</td>\n",
       "    </tr>\n",
       "    <tr>\n",
       "      <th>13450</th>\n",
       "      <td>2014.0</td>\n",
       "      <td>04/12/2014</td>\n",
       "      <td>07/01/2015</td>\n",
       "      <td>SAF01-101-H05</td>\n",
       "      <td>SAF01</td>\n",
       "      <td>H05</td>\n",
       "      <td>101.0</td>\n",
       "      <td>NOBBH</td>\n",
       "      <td>18.30</td>\n",
       "      <td>0.039</td>\n",
       "      <td>...</td>\n",
       "      <td>28</td>\n",
       "      <td>33.50</td>\n",
       "      <td>33.5</td>\n",
       "      <td>0.000</td>\n",
       "      <td>0.023</td>\n",
       "      <td>24.689</td>\n",
       "      <td>12.150</td>\n",
       "      <td>25.487</td>\n",
       "      <td>50.627</td>\n",
       "      <td>8.139</td>\n",
       "    </tr>\n",
       "    <tr>\n",
       "      <th>13451</th>\n",
       "      <td>2014.0</td>\n",
       "      <td>04/12/2014</td>\n",
       "      <td>05/01/2015</td>\n",
       "      <td>SAF01-101-H04</td>\n",
       "      <td>SAF01</td>\n",
       "      <td>H04</td>\n",
       "      <td>101.0</td>\n",
       "      <td>NOBBH</td>\n",
       "      <td>17.82</td>\n",
       "      <td>0.039</td>\n",
       "      <td>...</td>\n",
       "      <td>31</td>\n",
       "      <td>31.50</td>\n",
       "      <td>31.5</td>\n",
       "      <td>0.000</td>\n",
       "      <td>0.031</td>\n",
       "      <td>24.039</td>\n",
       "      <td>13.448</td>\n",
       "      <td>27.189</td>\n",
       "      <td>63.338</td>\n",
       "      <td>7.636</td>\n",
       "    </tr>\n",
       "    <tr>\n",
       "      <th>13452</th>\n",
       "      <td>2014.0</td>\n",
       "      <td>04/12/2014</td>\n",
       "      <td>09/01/2015</td>\n",
       "      <td>SAF01-101-H03</td>\n",
       "      <td>SAF01</td>\n",
       "      <td>H03</td>\n",
       "      <td>101.0</td>\n",
       "      <td>NOBBH</td>\n",
       "      <td>17.82</td>\n",
       "      <td>0.039</td>\n",
       "      <td>...</td>\n",
       "      <td>26</td>\n",
       "      <td>35.50</td>\n",
       "      <td>35.5</td>\n",
       "      <td>0.000</td>\n",
       "      <td>0.031</td>\n",
       "      <td>24.469</td>\n",
       "      <td>13.102</td>\n",
       "      <td>26.727</td>\n",
       "      <td>61.710</td>\n",
       "      <td>8.322</td>\n",
       "    </tr>\n",
       "    <tr>\n",
       "      <th>13453</th>\n",
       "      <td>2014.0</td>\n",
       "      <td>04/12/2014</td>\n",
       "      <td>09/01/2015</td>\n",
       "      <td>SAF01-101-H02</td>\n",
       "      <td>SAF01</td>\n",
       "      <td>H02</td>\n",
       "      <td>101.0</td>\n",
       "      <td>NOBBH</td>\n",
       "      <td>16.64</td>\n",
       "      <td>0.036</td>\n",
       "      <td>...</td>\n",
       "      <td>26</td>\n",
       "      <td>35.50</td>\n",
       "      <td>35.5</td>\n",
       "      <td>0.000</td>\n",
       "      <td>0.044</td>\n",
       "      <td>31.349</td>\n",
       "      <td>16.123</td>\n",
       "      <td>33.179</td>\n",
       "      <td>75.813</td>\n",
       "      <td>10.224</td>\n",
       "    </tr>\n",
       "    <tr>\n",
       "      <th>13454</th>\n",
       "      <td>2014.0</td>\n",
       "      <td>04/12/2014</td>\n",
       "      <td>06/01/2015</td>\n",
       "      <td>SAF01-101-H01</td>\n",
       "      <td>SAF01</td>\n",
       "      <td>H01</td>\n",
       "      <td>101.0</td>\n",
       "      <td>NOBBH</td>\n",
       "      <td>17.72</td>\n",
       "      <td>0.039</td>\n",
       "      <td>...</td>\n",
       "      <td>29</td>\n",
       "      <td>32.50</td>\n",
       "      <td>32.5</td>\n",
       "      <td>0.000</td>\n",
       "      <td>0.034</td>\n",
       "      <td>24.530</td>\n",
       "      <td>12.498</td>\n",
       "      <td>25.873</td>\n",
       "      <td>59.186</td>\n",
       "      <td>7.720</td>\n",
       "    </tr>\n",
       "  </tbody>\n",
       "</table>\n",
       "<p>13455 rows × 37 columns</p>\n",
       "</div>"
      ],
      "text/plain": [
       "         Year First Date Placed_x Date Sold_x Complex Entity No Farm No  \\\n",
       "0         NaN                 NaN         NaN               NaN     NaN   \n",
       "1         NaN                 NaN         NaN               NaN     NaN   \n",
       "2         NaN                 NaN         NaN               NaN     NaN   \n",
       "3         NaN                 NaN         NaN               NaN     NaN   \n",
       "4         NaN                 NaN         NaN               NaN     NaN   \n",
       "...       ...                 ...         ...               ...     ...   \n",
       "13450  2014.0          04/12/2014  07/01/2015     SAF01-101-H05   SAF01   \n",
       "13451  2014.0          04/12/2014  05/01/2015     SAF01-101-H04   SAF01   \n",
       "13452  2014.0          04/12/2014  09/01/2015     SAF01-101-H03   SAF01   \n",
       "13453  2014.0          04/12/2014  09/01/2015     SAF01-101-H02   SAF01   \n",
       "13454  2014.0          04/12/2014  06/01/2015     SAF01-101-H01   SAF01   \n",
       "\n",
       "      House No  Entity No Hatch Hatchery List  Placement Density (chicks/m2)  \\\n",
       "0          NaN        NaN                 NaN                            NaN   \n",
       "1          NaN        NaN                 NaN                            NaN   \n",
       "2          NaN        NaN                 NaN                            NaN   \n",
       "3          NaN        NaN                 NaN                            NaN   \n",
       "4          NaN        NaN                 NaN                            NaN   \n",
       "...        ...        ...                 ...                            ...   \n",
       "13450      H05      101.0               NOBBH                          18.30   \n",
       "13451      H04      101.0               NOBBH                          17.82   \n",
       "13452      H03      101.0               NOBBH                          17.82   \n",
       "13453      H02      101.0               NOBBH                          16.64   \n",
       "13454      H01      101.0               NOBBH                          17.72   \n",
       "\n",
       "       Avg Chick Wt  ... Cleaning period Age at end of Sales CPC  \\\n",
       "0               NaN  ...            6019                   32.20   \n",
       "1               NaN  ...            7672                   32.77   \n",
       "2               NaN  ...            6903                   32.37   \n",
       "3               NaN  ...            7736                   32.53   \n",
       "4               NaN  ...            6741                   32.60   \n",
       "...             ...  ...             ...                     ...   \n",
       "13450         0.039  ...              28                   33.50   \n",
       "13451         0.039  ...              31                   31.50   \n",
       "13452         0.039  ...              26                   35.50   \n",
       "13453         0.036  ...              26                   35.50   \n",
       "13454         0.039  ...              29                   32.50   \n",
       "\n",
       "       Age at end of Sales CPC-MAX  AVG (Feed Additives) per K.g  \\\n",
       "0                             36.5                         0.000   \n",
       "1                             36.5                         0.000   \n",
       "2                             36.5                         0.000   \n",
       "3                             36.5                         0.000   \n",
       "4                             36.5                         0.000   \n",
       "...                            ...                           ...   \n",
       "13450                         33.5                         0.000   \n",
       "13451                         31.5                         0.000   \n",
       "13452                         35.5                         0.000   \n",
       "13453                         35.5                         0.000   \n",
       "13454                         32.5                         0.000   \n",
       "\n",
       "      AVG (Med) Others Per K.g AVG Anntibtics Per K.g  \\\n",
       "0                       11.320                 32.192   \n",
       "1                        8.796                 31.136   \n",
       "2                        9.448                 33.662   \n",
       "3                        9.129                 33.754   \n",
       "4                        7.881                 35.145   \n",
       "...                        ...                    ...   \n",
       "13450                    0.023                 24.689   \n",
       "13451                    0.031                 24.039   \n",
       "13452                    0.031                 24.469   \n",
       "13453                    0.044                 31.349   \n",
       "13454                    0.034                 24.530   \n",
       "\n",
       "      AVG Disinfectant Per K.g  AVG Feed Additives Per K.g  \\\n",
       "0                       16.833                      16.237   \n",
       "1                       17.342                      18.343   \n",
       "2                       17.830                      17.235   \n",
       "3                       18.422                      16.373   \n",
       "4                       21.487                      16.415   \n",
       "...                        ...                         ...   \n",
       "13450                   12.150                      25.487   \n",
       "13451                   13.448                      27.189   \n",
       "13452                   13.102                      26.727   \n",
       "13453                   16.123                      33.179   \n",
       "13454                   12.498                      25.873   \n",
       "\n",
       "       AVG Vaccination Per K.g  AVG Vitamins Per K.g  \n",
       "0                       67.270                 7.925  \n",
       "1                       67.657                 7.071  \n",
       "2                       66.553                 7.929  \n",
       "3                       69.802                 6.966  \n",
       "4                       68.162                 7.889  \n",
       "...                        ...                   ...  \n",
       "13450                   50.627                 8.139  \n",
       "13451                   63.338                 7.636  \n",
       "13452                   61.710                 8.322  \n",
       "13453                   75.813                10.224  \n",
       "13454                   59.186                 7.720  \n",
       "\n",
       "[13455 rows x 37 columns]"
      ]
     },
     "execution_count": 10,
     "metadata": {},
     "output_type": "execute_result"
    }
   ],
   "source": [
    "#merge the two tables in one dataframe\n",
    "All_data=pd.merge(broiler_summary_ds, dinsity_ds, on='Complex Entity No')\n",
    "All_data"
   ]
  },
  {
   "cell_type": "code",
   "execution_count": 11,
   "metadata": {},
   "outputs": [],
   "source": [
    "#delet null values\n",
    "All_data=All_data.dropna()"
   ]
  },
  {
   "cell_type": "markdown",
   "metadata": {},
   "source": [
    "#### d) detect and adjust Data types"
   ]
  },
  {
   "cell_type": "code",
   "execution_count": 12,
   "metadata": {},
   "outputs": [
    {
     "name": "stdout",
     "output_type": "stream",
     "text": [
      "<class 'pandas.core.frame.DataFrame'>\n",
      "Int64Index: 12740 entries, 715 to 13454\n",
      "Data columns (total 37 columns):\n",
      " #   Column                                                               Non-Null Count  Dtype  \n",
      "---  ------                                                               --------------  -----  \n",
      " 0   Year                                                                 12740 non-null  float64\n",
      " 1   First Date Placed_x                                                  12740 non-null  object \n",
      " 2   Date Sold_x                                                          12740 non-null  object \n",
      " 3   Complex Entity No                                                    12740 non-null  object \n",
      " 4   Farm No                                                              12740 non-null  object \n",
      " 5   House No                                                             12740 non-null  object \n",
      " 6   Entity No                                                            12740 non-null  float64\n",
      " 7   Hatch Hatchery List                                                  12740 non-null  object \n",
      " 8   Placement Density (chicks/m2)                                        12740 non-null  float64\n",
      " 9   Avg Chick Wt                                                         12740 non-null  float64\n",
      " 10  Total Farm Head sold                                                 12740 non-null  object \n",
      " 11  Weight Sold (Farm)                                                   12740 non-null  object \n",
      " 12  Age - End of Sales                                                   12740 non-null  float64\n",
      " 13  Avg Chick Cost                                                       12740 non-null  float64\n",
      " 14  Head Sold Koki (farm)                                                12740 non-null  object \n",
      " 15  Head Sold Market                                                     12740 non-null  object \n",
      " 16  Head Placed                                                          12740 non-null  object \n",
      " 17  Avg Wt Sold (farm)                                                   12740 non-null  float64\n",
      " 18  Total Mortality Dead                                                 12740 non-null  float64\n",
      " 19  Feed Conversion CPC                                                  12740 non-null  float64\n",
      " 20  Broiler Index CPC                                                    12740 non-null  object \n",
      " 21  Daily Wt Gain                                                        12740 non-null  float64\n",
      " 22  First Date Placed_y                                                  12740 non-null  object \n",
      " 23  Date Sold_y                                                          12740 non-null  object \n",
      " 24  Placement Density (chicks/m2 - placed houses only)                   12740 non-null  object \n",
      " 25  Cycle time (first placed date (next) - first placed date (current))  12740 non-null  object \n",
      " 26  Current Age / Max harvest age                                        12740 non-null  object \n",
      " 27  Cleaning period                                                      12740 non-null  object \n",
      " 28  Age at end of Sales CPC                                              12740 non-null  object \n",
      " 29  Age at end of Sales CPC-MAX                                          12740 non-null  object \n",
      " 30  AVG (Feed Additives) per K.g                                         12740 non-null  object \n",
      " 31  AVG (Med) Others Per K.g                                             12740 non-null  object \n",
      " 32  AVG Anntibtics Per K.g                                               12740 non-null  object \n",
      " 33  AVG Disinfectant Per K.g                                             12740 non-null  object \n",
      " 34  AVG Feed Additives Per K.g                                           12740 non-null  object \n",
      " 35  AVG Vaccination Per K.g                                              12740 non-null  object \n",
      " 36  AVG Vitamins Per K.g                                                 12740 non-null  object \n",
      "dtypes: float64(10), object(27)\n",
      "memory usage: 3.7+ MB\n"
     ]
    }
   ],
   "source": [
    "All_data.info()"
   ]
  },
  {
   "cell_type": "code",
   "execution_count": 13,
   "metadata": {},
   "outputs": [
    {
     "name": "stderr",
     "output_type": "stream",
     "text": [
      "<ipython-input-13-4ffb4451f857>:2: SettingWithCopyWarning: \n",
      "A value is trying to be set on a copy of a slice from a DataFrame.\n",
      "Try using .loc[row_indexer,col_indexer] = value instead\n",
      "\n",
      "See the caveats in the documentation: https://pandas.pydata.org/pandas-docs/stable/user_guide/indexing.html#returning-a-view-versus-a-copy\n",
      "  All_data['First Date Placed_x']= pd.to_datetime(All_data['First Date Placed_x'])\n",
      "<ipython-input-13-4ffb4451f857>:3: SettingWithCopyWarning: \n",
      "A value is trying to be set on a copy of a slice from a DataFrame.\n",
      "Try using .loc[row_indexer,col_indexer] = value instead\n",
      "\n",
      "See the caveats in the documentation: https://pandas.pydata.org/pandas-docs/stable/user_guide/indexing.html#returning-a-view-versus-a-copy\n",
      "  All_data['Date Sold_x']= pd.to_datetime(All_data['Date Sold_x'])\n",
      "<ipython-input-13-4ffb4451f857>:4: SettingWithCopyWarning: \n",
      "A value is trying to be set on a copy of a slice from a DataFrame.\n",
      "Try using .loc[row_indexer,col_indexer] = value instead\n",
      "\n",
      "See the caveats in the documentation: https://pandas.pydata.org/pandas-docs/stable/user_guide/indexing.html#returning-a-view-versus-a-copy\n",
      "  All_data['First Date Placed_y']= pd.to_datetime(All_data['First Date Placed_y'])\n",
      "<ipython-input-13-4ffb4451f857>:5: SettingWithCopyWarning: \n",
      "A value is trying to be set on a copy of a slice from a DataFrame.\n",
      "Try using .loc[row_indexer,col_indexer] = value instead\n",
      "\n",
      "See the caveats in the documentation: https://pandas.pydata.org/pandas-docs/stable/user_guide/indexing.html#returning-a-view-versus-a-copy\n",
      "  All_data['Date Sold_y']= pd.to_datetime(All_data['Date Sold_y'])\n"
     ]
    }
   ],
   "source": [
    "#correcting data types\n",
    "All_data['First Date Placed_x']= pd.to_datetime(All_data['First Date Placed_x'])\n",
    "All_data['Date Sold_x']= pd.to_datetime(All_data['Date Sold_x'])\n",
    "All_data['First Date Placed_y']= pd.to_datetime(All_data['First Date Placed_y'])\n",
    "All_data['Date Sold_y']= pd.to_datetime(All_data['Date Sold_y'])"
   ]
  },
  {
   "cell_type": "code",
   "execution_count": 14,
   "metadata": {},
   "outputs": [
    {
     "data": {
      "text/plain": [
       "array([ True,  True,  True, ...,  True,  True,  True])"
      ]
     },
     "execution_count": 14,
     "metadata": {},
     "output_type": "execute_result"
    }
   ],
   "source": [
    "comparison_column = np.where(All_data[\"First Date Placed_x\"] == All_data[\"First Date Placed_y\"], True, False)\n",
    "comparison_column"
   ]
  },
  {
   "cell_type": "code",
   "execution_count": 15,
   "metadata": {},
   "outputs": [
    {
     "name": "stderr",
     "output_type": "stream",
     "text": [
      "<ipython-input-15-4f1d95b06e58>:1: SettingWithCopyWarning: \n",
      "A value is trying to be set on a copy of a slice from a DataFrame.\n",
      "Try using .loc[row_indexer,col_indexer] = value instead\n",
      "\n",
      "See the caveats in the documentation: https://pandas.pydata.org/pandas-docs/stable/user_guide/indexing.html#returning-a-view-versus-a-copy\n",
      "  All_data['Total Farm Head sold']=All_data['Total Farm Head sold'].str.replace(\",\", '')\n",
      "<ipython-input-15-4f1d95b06e58>:2: SettingWithCopyWarning: \n",
      "A value is trying to be set on a copy of a slice from a DataFrame.\n",
      "Try using .loc[row_indexer,col_indexer] = value instead\n",
      "\n",
      "See the caveats in the documentation: https://pandas.pydata.org/pandas-docs/stable/user_guide/indexing.html#returning-a-view-versus-a-copy\n",
      "  All_data['Head Sold Koki (farm)']=All_data['Head Sold Koki (farm)'].str.replace(\",\", '')\n",
      "<ipython-input-15-4f1d95b06e58>:3: SettingWithCopyWarning: \n",
      "A value is trying to be set on a copy of a slice from a DataFrame.\n",
      "Try using .loc[row_indexer,col_indexer] = value instead\n",
      "\n",
      "See the caveats in the documentation: https://pandas.pydata.org/pandas-docs/stable/user_guide/indexing.html#returning-a-view-versus-a-copy\n",
      "  All_data['Head Sold Market']=All_data['Head Sold Market'].str.replace(\",\", '')\n",
      "<ipython-input-15-4f1d95b06e58>:4: SettingWithCopyWarning: \n",
      "A value is trying to be set on a copy of a slice from a DataFrame.\n",
      "Try using .loc[row_indexer,col_indexer] = value instead\n",
      "\n",
      "See the caveats in the documentation: https://pandas.pydata.org/pandas-docs/stable/user_guide/indexing.html#returning-a-view-versus-a-copy\n",
      "  All_data['Head Placed']=All_data['Head Placed'].str.replace(\",\", '')\n",
      "<ipython-input-15-4f1d95b06e58>:5: SettingWithCopyWarning: \n",
      "A value is trying to be set on a copy of a slice from a DataFrame.\n",
      "Try using .loc[row_indexer,col_indexer] = value instead\n",
      "\n",
      "See the caveats in the documentation: https://pandas.pydata.org/pandas-docs/stable/user_guide/indexing.html#returning-a-view-versus-a-copy\n",
      "  All_data['Cleaning period']=All_data['Cleaning period'].str.replace(\",\", '')\n",
      "<ipython-input-15-4f1d95b06e58>:6: SettingWithCopyWarning: \n",
      "A value is trying to be set on a copy of a slice from a DataFrame.\n",
      "Try using .loc[row_indexer,col_indexer] = value instead\n",
      "\n",
      "See the caveats in the documentation: https://pandas.pydata.org/pandas-docs/stable/user_guide/indexing.html#returning-a-view-versus-a-copy\n",
      "  All_data['Weight Sold (Farm)']=All_data['Weight Sold (Farm)'].str.replace(\",\", '')\n",
      "<ipython-input-15-4f1d95b06e58>:7: SettingWithCopyWarning: \n",
      "A value is trying to be set on a copy of a slice from a DataFrame.\n",
      "Try using .loc[row_indexer,col_indexer] = value instead\n",
      "\n",
      "See the caveats in the documentation: https://pandas.pydata.org/pandas-docs/stable/user_guide/indexing.html#returning-a-view-versus-a-copy\n",
      "  All_data['Broiler Index CPC']=All_data['Broiler Index CPC'].str.replace(\",\", '')\n",
      "<ipython-input-15-4f1d95b06e58>:8: SettingWithCopyWarning: \n",
      "A value is trying to be set on a copy of a slice from a DataFrame.\n",
      "Try using .loc[row_indexer,col_indexer] = value instead\n",
      "\n",
      "See the caveats in the documentation: https://pandas.pydata.org/pandas-docs/stable/user_guide/indexing.html#returning-a-view-versus-a-copy\n",
      "  All_data['Cycle time (first placed date (next) - first placed date (current))']=All_data['Cycle time (first placed date (next) - first placed date (current))'].str.replace(\",\", '')\n",
      "<ipython-input-15-4f1d95b06e58>:9: SettingWithCopyWarning: \n",
      "A value is trying to be set on a copy of a slice from a DataFrame.\n",
      "Try using .loc[row_indexer,col_indexer] = value instead\n",
      "\n",
      "See the caveats in the documentation: https://pandas.pydata.org/pandas-docs/stable/user_guide/indexing.html#returning-a-view-versus-a-copy\n",
      "  All_data['AVG (Feed Additives) per K.g']=All_data['AVG (Feed Additives) per K.g'].str.replace(\",\", '')\n",
      "<ipython-input-15-4f1d95b06e58>:10: SettingWithCopyWarning: \n",
      "A value is trying to be set on a copy of a slice from a DataFrame.\n",
      "Try using .loc[row_indexer,col_indexer] = value instead\n",
      "\n",
      "See the caveats in the documentation: https://pandas.pydata.org/pandas-docs/stable/user_guide/indexing.html#returning-a-view-versus-a-copy\n",
      "  All_data['AVG (Med) Others Per K.g']=All_data['AVG (Med) Others Per K.g'].str.replace(\",\", '')\n",
      "<ipython-input-15-4f1d95b06e58>:11: SettingWithCopyWarning: \n",
      "A value is trying to be set on a copy of a slice from a DataFrame.\n",
      "Try using .loc[row_indexer,col_indexer] = value instead\n",
      "\n",
      "See the caveats in the documentation: https://pandas.pydata.org/pandas-docs/stable/user_guide/indexing.html#returning-a-view-versus-a-copy\n",
      "  All_data['AVG Anntibtics Per K.g']=All_data['AVG Anntibtics Per K.g'].str.replace(\",\", '')\n",
      "<ipython-input-15-4f1d95b06e58>:12: SettingWithCopyWarning: \n",
      "A value is trying to be set on a copy of a slice from a DataFrame.\n",
      "Try using .loc[row_indexer,col_indexer] = value instead\n",
      "\n",
      "See the caveats in the documentation: https://pandas.pydata.org/pandas-docs/stable/user_guide/indexing.html#returning-a-view-versus-a-copy\n",
      "  All_data['AVG Vaccination Per K.g']=All_data['AVG Vaccination Per K.g'].str.replace(\",\", '')\n",
      "<ipython-input-15-4f1d95b06e58>:13: SettingWithCopyWarning: \n",
      "A value is trying to be set on a copy of a slice from a DataFrame.\n",
      "Try using .loc[row_indexer,col_indexer] = value instead\n",
      "\n",
      "See the caveats in the documentation: https://pandas.pydata.org/pandas-docs/stable/user_guide/indexing.html#returning-a-view-versus-a-copy\n",
      "  All_data['AVG Disinfectant Per K.g']=All_data['AVG Disinfectant Per K.g'].str.replace(\",\", '')\n",
      "<ipython-input-15-4f1d95b06e58>:14: SettingWithCopyWarning: \n",
      "A value is trying to be set on a copy of a slice from a DataFrame.\n",
      "Try using .loc[row_indexer,col_indexer] = value instead\n",
      "\n",
      "See the caveats in the documentation: https://pandas.pydata.org/pandas-docs/stable/user_guide/indexing.html#returning-a-view-versus-a-copy\n",
      "  All_data['AVG Vitamins Per K.g']=All_data['AVG Vitamins Per K.g'].str.replace(\",\", '')\n",
      "<ipython-input-15-4f1d95b06e58>:15: SettingWithCopyWarning: \n",
      "A value is trying to be set on a copy of a slice from a DataFrame.\n",
      "Try using .loc[row_indexer,col_indexer] = value instead\n",
      "\n",
      "See the caveats in the documentation: https://pandas.pydata.org/pandas-docs/stable/user_guide/indexing.html#returning-a-view-versus-a-copy\n",
      "  All_data['AVG Vaccination Per K.g']=All_data['AVG Vaccination Per K.g'].str.replace(\",\", '')\n"
     ]
    },
    {
     "data": {
      "text/plain": [
       "''"
      ]
     },
     "execution_count": 15,
     "metadata": {},
     "output_type": "execute_result"
    }
   ],
   "source": [
    "All_data['Total Farm Head sold']=All_data['Total Farm Head sold'].str.replace(\",\", '')\n",
    "All_data['Head Sold Koki (farm)']=All_data['Head Sold Koki (farm)'].str.replace(\",\", '')\n",
    "All_data['Head Sold Market']=All_data['Head Sold Market'].str.replace(\",\", '')\n",
    "All_data['Head Placed']=All_data['Head Placed'].str.replace(\",\", '')\n",
    "All_data['Cleaning period']=All_data['Cleaning period'].str.replace(\",\", '')\n",
    "All_data['Weight Sold (Farm)']=All_data['Weight Sold (Farm)'].str.replace(\",\", '')\n",
    "All_data['Broiler Index CPC']=All_data['Broiler Index CPC'].str.replace(\",\", '')\n",
    "All_data['Cycle time (first placed date (next) - first placed date (current))']=All_data['Cycle time (first placed date (next) - first placed date (current))'].str.replace(\",\", '')\n",
    "All_data['AVG (Feed Additives) per K.g']=All_data['AVG (Feed Additives) per K.g'].str.replace(\",\", '')\n",
    "All_data['AVG (Med) Others Per K.g']=All_data['AVG (Med) Others Per K.g'].str.replace(\",\", '')\n",
    "All_data['AVG Anntibtics Per K.g']=All_data['AVG Anntibtics Per K.g'].str.replace(\",\", '')\n",
    "All_data['AVG Vaccination Per K.g']=All_data['AVG Vaccination Per K.g'].str.replace(\",\", '')\n",
    "All_data['AVG Disinfectant Per K.g']=All_data['AVG Disinfectant Per K.g'].str.replace(\",\", '')\n",
    "All_data['AVG Vitamins Per K.g']=All_data['AVG Vitamins Per K.g'].str.replace(\",\", '')\n",
    "All_data['AVG Vaccination Per K.g']=All_data['AVG Vaccination Per K.g'].str.replace(\",\", '')\n",
    ","
   ]
  },
  {
   "cell_type": "code",
   "execution_count": 16,
   "metadata": {},
   "outputs": [
    {
     "name": "stderr",
     "output_type": "stream",
     "text": [
      "C:\\Users\\dados\\anaconda3\\lib\\site-packages\\pandas\\core\\frame.py:2963: SettingWithCopyWarning: \n",
      "A value is trying to be set on a copy of a slice from a DataFrame.\n",
      "Try using .loc[row_indexer,col_indexer] = value instead\n",
      "\n",
      "See the caveats in the documentation: https://pandas.pydata.org/pandas-docs/stable/user_guide/indexing.html#returning-a-view-versus-a-copy\n",
      "  self[k1] = value[k2]\n"
     ]
    }
   ],
   "source": [
    "All_data[['Year','Total Mortality Dead']]=All_data[['Year','Total Mortality Dead']].astype('int64')\n",
    "All_data[['Total Farm Head sold','Head Sold Koki (farm)','Head Sold Market','Head Placed','Cleaning period']]=All_data[['Total Farm Head sold','Head Sold Koki (farm)','Head Sold Market','Head Placed','Cleaning period']].astype(str).astype('int64')\n",
    "All_data[['Weight Sold (Farm)','Broiler Index CPC','Cycle time (first placed date (next) - first placed date (current))','Cleaning period','AVG (Feed Additives) per K.g','AVG (Med) Others Per K.g', 'AVG Anntibtics Per K.g','AVG Vaccination Per K.g','AVG Disinfectant Per K.g','AVG Vitamins Per K.g','AVG Vaccination Per K.g' ]]=All_data[['Weight Sold (Farm)','Broiler Index CPC','Cycle time (first placed date (next) - first placed date (current))','Cleaning period','AVG (Feed Additives) per K.g','AVG (Med) Others Per K.g', 'AVG Anntibtics Per K.g','AVG Vaccination Per K.g','AVG Disinfectant Per K.g','AVG Vitamins Per K.g','AVG Vaccination Per K.g']].astype(str).astype(float)"
   ]
  },
  {
   "cell_type": "code",
   "execution_count": 17,
   "metadata": {},
   "outputs": [
    {
     "name": "stderr",
     "output_type": "stream",
     "text": [
      "C:\\Users\\dados\\anaconda3\\lib\\site-packages\\pandas\\core\\frame.py:3990: SettingWithCopyWarning: \n",
      "A value is trying to be set on a copy of a slice from a DataFrame\n",
      "\n",
      "See the caveats in the documentation: https://pandas.pydata.org/pandas-docs/stable/user_guide/indexing.html#returning-a-view-versus-a-copy\n",
      "  return super().drop(\n"
     ]
    }
   ],
   "source": [
    "#drop duplicated columns\n",
    "All_data.drop(['Entity No','Current Age / Max harvest age' ,\"First Date Placed_y\", \"Date Sold_y\", 'Placement Density (chicks/m2 - placed houses only)','AVG Feed Additives Per K.g','Age at end of Sales CPC','Age at end of Sales CPC-MAX'], axis=1, inplace=True)"
   ]
  },
  {
   "cell_type": "markdown",
   "metadata": {},
   "source": [
    "#### e-creat new column for season and period "
   ]
  },
  {
   "cell_type": "code",
   "execution_count": 18,
   "metadata": {},
   "outputs": [
    {
     "name": "stderr",
     "output_type": "stream",
     "text": [
      "<ipython-input-18-0c4aed40194c>:1: SettingWithCopyWarning: \n",
      "A value is trying to be set on a copy of a slice from a DataFrame.\n",
      "Try using .loc[row_indexer,col_indexer] = value instead\n",
      "\n",
      "See the caveats in the documentation: https://pandas.pydata.org/pandas-docs/stable/user_guide/indexing.html#returning-a-view-versus-a-copy\n",
      "  All_data['day'] = All_data['Date Sold_x'].dt.day\n",
      "<ipython-input-18-0c4aed40194c>:2: SettingWithCopyWarning: \n",
      "A value is trying to be set on a copy of a slice from a DataFrame.\n",
      "Try using .loc[row_indexer,col_indexer] = value instead\n",
      "\n",
      "See the caveats in the documentation: https://pandas.pydata.org/pandas-docs/stable/user_guide/indexing.html#returning-a-view-versus-a-copy\n",
      "  All_data['month'] = All_data['Date Sold_x'].dt.month\n",
      "<ipython-input-18-0c4aed40194c>:3: SettingWithCopyWarning: \n",
      "A value is trying to be set on a copy of a slice from a DataFrame.\n",
      "Try using .loc[row_indexer,col_indexer] = value instead\n",
      "\n",
      "See the caveats in the documentation: https://pandas.pydata.org/pandas-docs/stable/user_guide/indexing.html#returning-a-view-versus-a-copy\n",
      "  All_data['year'] = All_data['Date Sold_x'].dt.year\n",
      "<ipython-input-18-0c4aed40194c>:4: SettingWithCopyWarning: \n",
      "A value is trying to be set on a copy of a slice from a DataFrame.\n",
      "Try using .loc[row_indexer,col_indexer] = value instead\n",
      "\n",
      "See the caveats in the documentation: https://pandas.pydata.org/pandas-docs/stable/user_guide/indexing.html#returning-a-view-versus-a-copy\n",
      "  All_data['season'] = [1 if x >=11   else 1 if x<=4 else 2 for x in All_data['month']]\n",
      "<ipython-input-18-0c4aed40194c>:5: SettingWithCopyWarning: \n",
      "A value is trying to be set on a copy of a slice from a DataFrame.\n",
      "Try using .loc[row_indexer,col_indexer] = value instead\n",
      "\n",
      "See the caveats in the documentation: https://pandas.pydata.org/pandas-docs/stable/user_guide/indexing.html#returning-a-view-versus-a-copy\n",
      "  All_data['period'] = [6 if x ==2020  else 5 if x ==2019  else 4 if x ==2018  else 3 if x ==2017 else 2 if x ==2016 else 1 for x in All_data['year'] ]\n"
     ]
    }
   ],
   "source": [
    "All_data['day'] = All_data['Date Sold_x'].dt.day\n",
    "All_data['month'] = All_data['Date Sold_x'].dt.month\n",
    "All_data['year'] = All_data['Date Sold_x'].dt.year\n",
    "All_data['season'] = [1 if x >=11   else 1 if x<=4 else 2 for x in All_data['month']]\n",
    "All_data['period'] = [6 if x ==2020  else 5 if x ==2019  else 4 if x ==2018  else 3 if x ==2017 else 2 if x ==2016 else 1 for x in All_data['year'] ]\n"
   ]
  },
  {
   "cell_type": "markdown",
   "metadata": {},
   "source": [
    "##### f-set Complex Entity No as index coloumn"
   ]
  },
  {
   "cell_type": "code",
   "execution_count": 19,
   "metadata": {},
   "outputs": [
    {
     "data": {
      "text/html": [
       "<div>\n",
       "<style scoped>\n",
       "    .dataframe tbody tr th:only-of-type {\n",
       "        vertical-align: middle;\n",
       "    }\n",
       "\n",
       "    .dataframe tbody tr th {\n",
       "        vertical-align: top;\n",
       "    }\n",
       "\n",
       "    .dataframe thead th {\n",
       "        text-align: right;\n",
       "    }\n",
       "</style>\n",
       "<table border=\"1\" class=\"dataframe\">\n",
       "  <thead>\n",
       "    <tr style=\"text-align: right;\">\n",
       "      <th></th>\n",
       "      <th>Year</th>\n",
       "      <th>First Date Placed_x</th>\n",
       "      <th>Date Sold_x</th>\n",
       "      <th>Farm No</th>\n",
       "      <th>House No</th>\n",
       "      <th>Hatch Hatchery List</th>\n",
       "      <th>Placement Density (chicks/m2)</th>\n",
       "      <th>Avg Chick Wt</th>\n",
       "      <th>Total Farm Head sold</th>\n",
       "      <th>Weight Sold (Farm)</th>\n",
       "      <th>...</th>\n",
       "      <th>AVG (Med) Others Per K.g</th>\n",
       "      <th>AVG Anntibtics Per K.g</th>\n",
       "      <th>AVG Disinfectant Per K.g</th>\n",
       "      <th>AVG Vaccination Per K.g</th>\n",
       "      <th>AVG Vitamins Per K.g</th>\n",
       "      <th>day</th>\n",
       "      <th>month</th>\n",
       "      <th>year</th>\n",
       "      <th>season</th>\n",
       "      <th>period</th>\n",
       "    </tr>\n",
       "    <tr>\n",
       "      <th>Complex Entity No</th>\n",
       "      <th></th>\n",
       "      <th></th>\n",
       "      <th></th>\n",
       "      <th></th>\n",
       "      <th></th>\n",
       "      <th></th>\n",
       "      <th></th>\n",
       "      <th></th>\n",
       "      <th></th>\n",
       "      <th></th>\n",
       "      <th></th>\n",
       "      <th></th>\n",
       "      <th></th>\n",
       "      <th></th>\n",
       "      <th></th>\n",
       "      <th></th>\n",
       "      <th></th>\n",
       "      <th></th>\n",
       "      <th></th>\n",
       "      <th></th>\n",
       "      <th></th>\n",
       "    </tr>\n",
       "  </thead>\n",
       "  <tbody>\n",
       "    <tr>\n",
       "      <th>NOB19-117-H20</th>\n",
       "      <td>2020</td>\n",
       "      <td>2020-10-24</td>\n",
       "      <td>2020-11-25</td>\n",
       "      <td>NOB19</td>\n",
       "      <td>H20</td>\n",
       "      <td>RAMBH</td>\n",
       "      <td>16.89</td>\n",
       "      <td>0.041</td>\n",
       "      <td>15160</td>\n",
       "      <td>25280.0</td>\n",
       "      <td>...</td>\n",
       "      <td>0.000</td>\n",
       "      <td>0.000</td>\n",
       "      <td>0.000</td>\n",
       "      <td>0.000</td>\n",
       "      <td>0.000</td>\n",
       "      <td>25</td>\n",
       "      <td>11</td>\n",
       "      <td>2020</td>\n",
       "      <td>1</td>\n",
       "      <td>6</td>\n",
       "    </tr>\n",
       "    <tr>\n",
       "      <th>NOB19-117-H19</th>\n",
       "      <td>2020</td>\n",
       "      <td>2020-10-24</td>\n",
       "      <td>2020-11-25</td>\n",
       "      <td>NOB19</td>\n",
       "      <td>H19</td>\n",
       "      <td>RAMBH</td>\n",
       "      <td>16.89</td>\n",
       "      <td>0.041</td>\n",
       "      <td>14960</td>\n",
       "      <td>23690.0</td>\n",
       "      <td>...</td>\n",
       "      <td>0.000</td>\n",
       "      <td>0.000</td>\n",
       "      <td>0.000</td>\n",
       "      <td>0.000</td>\n",
       "      <td>0.000</td>\n",
       "      <td>25</td>\n",
       "      <td>11</td>\n",
       "      <td>2020</td>\n",
       "      <td>1</td>\n",
       "      <td>6</td>\n",
       "    </tr>\n",
       "    <tr>\n",
       "      <th>NOB19-117-H18</th>\n",
       "      <td>2020</td>\n",
       "      <td>2020-10-24</td>\n",
       "      <td>2020-11-25</td>\n",
       "      <td>NOB19</td>\n",
       "      <td>H18</td>\n",
       "      <td>RAMBH</td>\n",
       "      <td>16.89</td>\n",
       "      <td>0.041</td>\n",
       "      <td>15230</td>\n",
       "      <td>24620.0</td>\n",
       "      <td>...</td>\n",
       "      <td>0.000</td>\n",
       "      <td>0.000</td>\n",
       "      <td>0.000</td>\n",
       "      <td>0.000</td>\n",
       "      <td>0.000</td>\n",
       "      <td>25</td>\n",
       "      <td>11</td>\n",
       "      <td>2020</td>\n",
       "      <td>1</td>\n",
       "      <td>6</td>\n",
       "    </tr>\n",
       "    <tr>\n",
       "      <th>NOB19-117-H17</th>\n",
       "      <td>2020</td>\n",
       "      <td>2020-10-24</td>\n",
       "      <td>2020-11-25</td>\n",
       "      <td>NOB19</td>\n",
       "      <td>H17</td>\n",
       "      <td>RAMBH</td>\n",
       "      <td>16.89</td>\n",
       "      <td>0.041</td>\n",
       "      <td>15200</td>\n",
       "      <td>24810.0</td>\n",
       "      <td>...</td>\n",
       "      <td>0.000</td>\n",
       "      <td>0.000</td>\n",
       "      <td>0.000</td>\n",
       "      <td>0.000</td>\n",
       "      <td>0.000</td>\n",
       "      <td>25</td>\n",
       "      <td>11</td>\n",
       "      <td>2020</td>\n",
       "      <td>1</td>\n",
       "      <td>6</td>\n",
       "    </tr>\n",
       "    <tr>\n",
       "      <th>NOB19-117-H16</th>\n",
       "      <td>2020</td>\n",
       "      <td>2020-10-24</td>\n",
       "      <td>2020-11-25</td>\n",
       "      <td>NOB19</td>\n",
       "      <td>H16</td>\n",
       "      <td>NOBBH</td>\n",
       "      <td>18.20</td>\n",
       "      <td>0.040</td>\n",
       "      <td>16345</td>\n",
       "      <td>26010.0</td>\n",
       "      <td>...</td>\n",
       "      <td>0.000</td>\n",
       "      <td>0.000</td>\n",
       "      <td>0.000</td>\n",
       "      <td>0.000</td>\n",
       "      <td>0.000</td>\n",
       "      <td>25</td>\n",
       "      <td>11</td>\n",
       "      <td>2020</td>\n",
       "      <td>1</td>\n",
       "      <td>6</td>\n",
       "    </tr>\n",
       "    <tr>\n",
       "      <th>...</th>\n",
       "      <td>...</td>\n",
       "      <td>...</td>\n",
       "      <td>...</td>\n",
       "      <td>...</td>\n",
       "      <td>...</td>\n",
       "      <td>...</td>\n",
       "      <td>...</td>\n",
       "      <td>...</td>\n",
       "      <td>...</td>\n",
       "      <td>...</td>\n",
       "      <td>...</td>\n",
       "      <td>...</td>\n",
       "      <td>...</td>\n",
       "      <td>...</td>\n",
       "      <td>...</td>\n",
       "      <td>...</td>\n",
       "      <td>...</td>\n",
       "      <td>...</td>\n",
       "      <td>...</td>\n",
       "      <td>...</td>\n",
       "      <td>...</td>\n",
       "    </tr>\n",
       "    <tr>\n",
       "      <th>SAF01-101-H05</th>\n",
       "      <td>2014</td>\n",
       "      <td>2014-04-12</td>\n",
       "      <td>2015-07-01</td>\n",
       "      <td>SAF01</td>\n",
       "      <td>H05</td>\n",
       "      <td>NOBBH</td>\n",
       "      <td>18.30</td>\n",
       "      <td>0.039</td>\n",
       "      <td>15630</td>\n",
       "      <td>25680.0</td>\n",
       "      <td>...</td>\n",
       "      <td>0.023</td>\n",
       "      <td>24.689</td>\n",
       "      <td>12.150</td>\n",
       "      <td>50.627</td>\n",
       "      <td>8.139</td>\n",
       "      <td>1</td>\n",
       "      <td>7</td>\n",
       "      <td>2015</td>\n",
       "      <td>2</td>\n",
       "      <td>1</td>\n",
       "    </tr>\n",
       "    <tr>\n",
       "      <th>SAF01-101-H04</th>\n",
       "      <td>2014</td>\n",
       "      <td>2014-04-12</td>\n",
       "      <td>2015-05-01</td>\n",
       "      <td>SAF01</td>\n",
       "      <td>H04</td>\n",
       "      <td>NOBBH</td>\n",
       "      <td>17.82</td>\n",
       "      <td>0.039</td>\n",
       "      <td>12550</td>\n",
       "      <td>18960.0</td>\n",
       "      <td>...</td>\n",
       "      <td>0.031</td>\n",
       "      <td>24.039</td>\n",
       "      <td>13.448</td>\n",
       "      <td>63.338</td>\n",
       "      <td>7.636</td>\n",
       "      <td>1</td>\n",
       "      <td>5</td>\n",
       "      <td>2015</td>\n",
       "      <td>2</td>\n",
       "      <td>1</td>\n",
       "    </tr>\n",
       "    <tr>\n",
       "      <th>SAF01-101-H03</th>\n",
       "      <td>2014</td>\n",
       "      <td>2014-04-12</td>\n",
       "      <td>2015-09-01</td>\n",
       "      <td>SAF01</td>\n",
       "      <td>H03</td>\n",
       "      <td>NOBBH</td>\n",
       "      <td>17.82</td>\n",
       "      <td>0.039</td>\n",
       "      <td>11740</td>\n",
       "      <td>19460.0</td>\n",
       "      <td>...</td>\n",
       "      <td>0.031</td>\n",
       "      <td>24.469</td>\n",
       "      <td>13.102</td>\n",
       "      <td>61.710</td>\n",
       "      <td>8.322</td>\n",
       "      <td>1</td>\n",
       "      <td>9</td>\n",
       "      <td>2015</td>\n",
       "      <td>2</td>\n",
       "      <td>1</td>\n",
       "    </tr>\n",
       "    <tr>\n",
       "      <th>SAF01-101-H02</th>\n",
       "      <td>2014</td>\n",
       "      <td>2014-04-12</td>\n",
       "      <td>2015-09-01</td>\n",
       "      <td>SAF01</td>\n",
       "      <td>H02</td>\n",
       "      <td>NOBBH</td>\n",
       "      <td>16.64</td>\n",
       "      <td>0.036</td>\n",
       "      <td>9870</td>\n",
       "      <td>15840.0</td>\n",
       "      <td>...</td>\n",
       "      <td>0.044</td>\n",
       "      <td>31.349</td>\n",
       "      <td>16.123</td>\n",
       "      <td>75.813</td>\n",
       "      <td>10.224</td>\n",
       "      <td>1</td>\n",
       "      <td>9</td>\n",
       "      <td>2015</td>\n",
       "      <td>2</td>\n",
       "      <td>1</td>\n",
       "    </tr>\n",
       "    <tr>\n",
       "      <th>SAF01-101-H01</th>\n",
       "      <td>2014</td>\n",
       "      <td>2014-04-12</td>\n",
       "      <td>2015-06-01</td>\n",
       "      <td>SAF01</td>\n",
       "      <td>H01</td>\n",
       "      <td>NOBBH</td>\n",
       "      <td>17.72</td>\n",
       "      <td>0.039</td>\n",
       "      <td>12380</td>\n",
       "      <td>20290.0</td>\n",
       "      <td>...</td>\n",
       "      <td>0.034</td>\n",
       "      <td>24.530</td>\n",
       "      <td>12.498</td>\n",
       "      <td>59.186</td>\n",
       "      <td>7.720</td>\n",
       "      <td>1</td>\n",
       "      <td>6</td>\n",
       "      <td>2015</td>\n",
       "      <td>2</td>\n",
       "      <td>1</td>\n",
       "    </tr>\n",
       "  </tbody>\n",
       "</table>\n",
       "<p>12740 rows × 33 columns</p>\n",
       "</div>"
      ],
      "text/plain": [
       "                   Year First Date Placed_x Date Sold_x Farm No House No  \\\n",
       "Complex Entity No                                                          \n",
       "NOB19-117-H20      2020          2020-10-24  2020-11-25   NOB19      H20   \n",
       "NOB19-117-H19      2020          2020-10-24  2020-11-25   NOB19      H19   \n",
       "NOB19-117-H18      2020          2020-10-24  2020-11-25   NOB19      H18   \n",
       "NOB19-117-H17      2020          2020-10-24  2020-11-25   NOB19      H17   \n",
       "NOB19-117-H16      2020          2020-10-24  2020-11-25   NOB19      H16   \n",
       "...                 ...                 ...         ...     ...      ...   \n",
       "SAF01-101-H05      2014          2014-04-12  2015-07-01   SAF01      H05   \n",
       "SAF01-101-H04      2014          2014-04-12  2015-05-01   SAF01      H04   \n",
       "SAF01-101-H03      2014          2014-04-12  2015-09-01   SAF01      H03   \n",
       "SAF01-101-H02      2014          2014-04-12  2015-09-01   SAF01      H02   \n",
       "SAF01-101-H01      2014          2014-04-12  2015-06-01   SAF01      H01   \n",
       "\n",
       "                  Hatch Hatchery List  Placement Density (chicks/m2)  \\\n",
       "Complex Entity No                                                      \n",
       "NOB19-117-H20                   RAMBH                          16.89   \n",
       "NOB19-117-H19                   RAMBH                          16.89   \n",
       "NOB19-117-H18                   RAMBH                          16.89   \n",
       "NOB19-117-H17                   RAMBH                          16.89   \n",
       "NOB19-117-H16                   NOBBH                          18.20   \n",
       "...                               ...                            ...   \n",
       "SAF01-101-H05                   NOBBH                          18.30   \n",
       "SAF01-101-H04                   NOBBH                          17.82   \n",
       "SAF01-101-H03                   NOBBH                          17.82   \n",
       "SAF01-101-H02                   NOBBH                          16.64   \n",
       "SAF01-101-H01                   NOBBH                          17.72   \n",
       "\n",
       "                   Avg Chick Wt  Total Farm Head sold  Weight Sold (Farm)  \\\n",
       "Complex Entity No                                                           \n",
       "NOB19-117-H20             0.041                 15160             25280.0   \n",
       "NOB19-117-H19             0.041                 14960             23690.0   \n",
       "NOB19-117-H18             0.041                 15230             24620.0   \n",
       "NOB19-117-H17             0.041                 15200             24810.0   \n",
       "NOB19-117-H16             0.040                 16345             26010.0   \n",
       "...                         ...                   ...                 ...   \n",
       "SAF01-101-H05             0.039                 15630             25680.0   \n",
       "SAF01-101-H04             0.039                 12550             18960.0   \n",
       "SAF01-101-H03             0.039                 11740             19460.0   \n",
       "SAF01-101-H02             0.036                  9870             15840.0   \n",
       "SAF01-101-H01             0.039                 12380             20290.0   \n",
       "\n",
       "                   ...  AVG (Med) Others Per K.g  AVG Anntibtics Per K.g  \\\n",
       "Complex Entity No  ...                                                     \n",
       "NOB19-117-H20      ...                     0.000                   0.000   \n",
       "NOB19-117-H19      ...                     0.000                   0.000   \n",
       "NOB19-117-H18      ...                     0.000                   0.000   \n",
       "NOB19-117-H17      ...                     0.000                   0.000   \n",
       "NOB19-117-H16      ...                     0.000                   0.000   \n",
       "...                ...                       ...                     ...   \n",
       "SAF01-101-H05      ...                     0.023                  24.689   \n",
       "SAF01-101-H04      ...                     0.031                  24.039   \n",
       "SAF01-101-H03      ...                     0.031                  24.469   \n",
       "SAF01-101-H02      ...                     0.044                  31.349   \n",
       "SAF01-101-H01      ...                     0.034                  24.530   \n",
       "\n",
       "                   AVG Disinfectant Per K.g  AVG Vaccination Per K.g  \\\n",
       "Complex Entity No                                                      \n",
       "NOB19-117-H20                         0.000                    0.000   \n",
       "NOB19-117-H19                         0.000                    0.000   \n",
       "NOB19-117-H18                         0.000                    0.000   \n",
       "NOB19-117-H17                         0.000                    0.000   \n",
       "NOB19-117-H16                         0.000                    0.000   \n",
       "...                                     ...                      ...   \n",
       "SAF01-101-H05                        12.150                   50.627   \n",
       "SAF01-101-H04                        13.448                   63.338   \n",
       "SAF01-101-H03                        13.102                   61.710   \n",
       "SAF01-101-H02                        16.123                   75.813   \n",
       "SAF01-101-H01                        12.498                   59.186   \n",
       "\n",
       "                   AVG Vitamins Per K.g  day  month  year  season  period  \n",
       "Complex Entity No                                                          \n",
       "NOB19-117-H20                     0.000   25     11  2020       1       6  \n",
       "NOB19-117-H19                     0.000   25     11  2020       1       6  \n",
       "NOB19-117-H18                     0.000   25     11  2020       1       6  \n",
       "NOB19-117-H17                     0.000   25     11  2020       1       6  \n",
       "NOB19-117-H16                     0.000   25     11  2020       1       6  \n",
       "...                                 ...  ...    ...   ...     ...     ...  \n",
       "SAF01-101-H05                     8.139    1      7  2015       2       1  \n",
       "SAF01-101-H04                     7.636    1      5  2015       2       1  \n",
       "SAF01-101-H03                     8.322    1      9  2015       2       1  \n",
       "SAF01-101-H02                    10.224    1      9  2015       2       1  \n",
       "SAF01-101-H01                     7.720    1      6  2015       2       1  \n",
       "\n",
       "[12740 rows x 33 columns]"
      ]
     },
     "execution_count": 19,
     "metadata": {},
     "output_type": "execute_result"
    }
   ],
   "source": [
    "All_data.set_index('Complex Entity No')"
   ]
  },
  {
   "cell_type": "markdown",
   "metadata": {},
   "source": [
    "##### g- merge farm and house columns in one column named entity"
   ]
  },
  {
   "cell_type": "code",
   "execution_count": 20,
   "metadata": {},
   "outputs": [
    {
     "name": "stderr",
     "output_type": "stream",
     "text": [
      "<ipython-input-20-e63e08c5cbb6>:1: SettingWithCopyWarning: \n",
      "A value is trying to be set on a copy of a slice from a DataFrame.\n",
      "Try using .loc[row_indexer,col_indexer] = value instead\n",
      "\n",
      "See the caveats in the documentation: https://pandas.pydata.org/pandas-docs/stable/user_guide/indexing.html#returning-a-view-versus-a-copy\n",
      "  All_data['entity'] = All_data[['Farm No', 'House No']].agg(''.join, axis=1)\n"
     ]
    }
   ],
   "source": [
    "All_data['entity'] = All_data[['Farm No', 'House No']].agg(''.join, axis=1)"
   ]
  },
  {
   "cell_type": "code",
   "execution_count": 21,
   "metadata": {},
   "outputs": [
    {
     "name": "stderr",
     "output_type": "stream",
     "text": [
      "<ipython-input-21-c1380bd1585a>:1: SettingWithCopyWarning: \n",
      "A value is trying to be set on a copy of a slice from a DataFrame.\n",
      "Try using .loc[row_indexer,col_indexer] = value instead\n",
      "\n",
      "See the caveats in the documentation: https://pandas.pydata.org/pandas-docs/stable/user_guide/indexing.html#returning-a-view-versus-a-copy\n",
      "  All_data['medicin total'] = All_data['AVG (Feed Additives) per K.g'] + All_data['AVG (Med) Others Per K.g'] + All_data['AVG Anntibtics Per K.g']+ All_data['AVG Disinfectant Per K.g']+ All_data['AVG Vaccination Per K.g']+ All_data['AVG Vitamins Per K.g']\n"
     ]
    }
   ],
   "source": [
    "All_data['medicin total'] = All_data['AVG (Feed Additives) per K.g'] + All_data['AVG (Med) Others Per K.g'] + All_data['AVG Anntibtics Per K.g']+ All_data['AVG Disinfectant Per K.g']+ All_data['AVG Vaccination Per K.g']+ All_data['AVG Vitamins Per K.g']"
   ]
  },
  {
   "cell_type": "markdown",
   "metadata": {},
   "source": [
    "#### h-creat column to Encod object columns"
   ]
  },
  {
   "cell_type": "code",
   "execution_count": 22,
   "metadata": {},
   "outputs": [
    {
     "name": "stderr",
     "output_type": "stream",
     "text": [
      "<ipython-input-22-be1cfb986815>:3: SettingWithCopyWarning: \n",
      "A value is trying to be set on a copy of a slice from a DataFrame.\n",
      "Try using .loc[row_indexer,col_indexer] = value instead\n",
      "\n",
      "See the caveats in the documentation: https://pandas.pydata.org/pandas-docs/stable/user_guide/indexing.html#returning-a-view-versus-a-copy\n",
      "  All_data[\"entity_code\"] = ord_enc.fit_transform( All_data[[\"entity\"]])\n",
      "<ipython-input-22-be1cfb986815>:4: SettingWithCopyWarning: \n",
      "A value is trying to be set on a copy of a slice from a DataFrame.\n",
      "Try using .loc[row_indexer,col_indexer] = value instead\n",
      "\n",
      "See the caveats in the documentation: https://pandas.pydata.org/pandas-docs/stable/user_guide/indexing.html#returning-a-view-versus-a-copy\n",
      "  All_data[\"Hatch Hatchery List_code\"] = ord_enc.fit_transform( All_data[[\"Hatch Hatchery List\"]])\n"
     ]
    }
   ],
   "source": [
    "from sklearn.preprocessing import OrdinalEncoder\n",
    "ord_enc = OrdinalEncoder()\n",
    "All_data[\"entity_code\"] = ord_enc.fit_transform( All_data[[\"entity\"]])\n",
    "All_data[\"Hatch Hatchery List_code\"] = ord_enc.fit_transform( All_data[[\"Hatch Hatchery List\"]])"
   ]
  },
  {
   "cell_type": "code",
   "execution_count": 23,
   "metadata": {},
   "outputs": [
    {
     "name": "stdout",
     "output_type": "stream",
     "text": [
      "<class 'pandas.core.frame.DataFrame'>\n",
      "Int64Index: 12740 entries, 715 to 13454\n",
      "Data columns (total 38 columns):\n",
      " #   Column                                                               Non-Null Count  Dtype         \n",
      "---  ------                                                               --------------  -----         \n",
      " 0   Year                                                                 12740 non-null  int64         \n",
      " 1   First Date Placed_x                                                  12740 non-null  datetime64[ns]\n",
      " 2   Date Sold_x                                                          12740 non-null  datetime64[ns]\n",
      " 3   Complex Entity No                                                    12740 non-null  object        \n",
      " 4   Farm No                                                              12740 non-null  object        \n",
      " 5   House No                                                             12740 non-null  object        \n",
      " 6   Hatch Hatchery List                                                  12740 non-null  object        \n",
      " 7   Placement Density (chicks/m2)                                        12740 non-null  float64       \n",
      " 8   Avg Chick Wt                                                         12740 non-null  float64       \n",
      " 9   Total Farm Head sold                                                 12740 non-null  int64         \n",
      " 10  Weight Sold (Farm)                                                   12740 non-null  float64       \n",
      " 11  Age - End of Sales                                                   12740 non-null  float64       \n",
      " 12  Avg Chick Cost                                                       12740 non-null  float64       \n",
      " 13  Head Sold Koki (farm)                                                12740 non-null  int64         \n",
      " 14  Head Sold Market                                                     12740 non-null  int64         \n",
      " 15  Head Placed                                                          12740 non-null  int64         \n",
      " 16  Avg Wt Sold (farm)                                                   12740 non-null  float64       \n",
      " 17  Total Mortality Dead                                                 12740 non-null  int64         \n",
      " 18  Feed Conversion CPC                                                  12740 non-null  float64       \n",
      " 19  Broiler Index CPC                                                    12740 non-null  float64       \n",
      " 20  Daily Wt Gain                                                        12740 non-null  float64       \n",
      " 21  Cycle time (first placed date (next) - first placed date (current))  12740 non-null  float64       \n",
      " 22  Cleaning period                                                      12740 non-null  float64       \n",
      " 23  AVG (Feed Additives) per K.g                                         12740 non-null  float64       \n",
      " 24  AVG (Med) Others Per K.g                                             12740 non-null  float64       \n",
      " 25  AVG Anntibtics Per K.g                                               12740 non-null  float64       \n",
      " 26  AVG Disinfectant Per K.g                                             12740 non-null  float64       \n",
      " 27  AVG Vaccination Per K.g                                              12740 non-null  float64       \n",
      " 28  AVG Vitamins Per K.g                                                 12740 non-null  float64       \n",
      " 29  day                                                                  12740 non-null  int64         \n",
      " 30  month                                                                12740 non-null  int64         \n",
      " 31  year                                                                 12740 non-null  int64         \n",
      " 32  season                                                               12740 non-null  int64         \n",
      " 33  period                                                               12740 non-null  int64         \n",
      " 34  entity                                                               12740 non-null  object        \n",
      " 35  medicin total                                                        12740 non-null  float64       \n",
      " 36  entity_code                                                          12740 non-null  float64       \n",
      " 37  Hatch Hatchery List_code                                             12740 non-null  float64       \n",
      "dtypes: datetime64[ns](2), float64(20), int64(11), object(5)\n",
      "memory usage: 3.8+ MB\n"
     ]
    }
   ],
   "source": [
    "All_data.info()"
   ]
  },
  {
   "cell_type": "markdown",
   "metadata": {},
   "source": [
    "## B-  Dataset discriptive analysis "
   ]
  },
  {
   "cell_type": "code",
   "execution_count": 24,
   "metadata": {},
   "outputs": [
    {
     "data": {
      "text/html": [
       "<div>\n",
       "<style scoped>\n",
       "    .dataframe tbody tr th:only-of-type {\n",
       "        vertical-align: middle;\n",
       "    }\n",
       "\n",
       "    .dataframe tbody tr th {\n",
       "        vertical-align: top;\n",
       "    }\n",
       "\n",
       "    .dataframe thead th {\n",
       "        text-align: right;\n",
       "    }\n",
       "</style>\n",
       "<table border=\"1\" class=\"dataframe\">\n",
       "  <thead>\n",
       "    <tr style=\"text-align: right;\">\n",
       "      <th></th>\n",
       "      <th>Year</th>\n",
       "      <th>Placement Density (chicks/m2)</th>\n",
       "      <th>Avg Chick Wt</th>\n",
       "      <th>Total Farm Head sold</th>\n",
       "      <th>Weight Sold (Farm)</th>\n",
       "      <th>Age - End of Sales</th>\n",
       "      <th>Avg Chick Cost</th>\n",
       "      <th>Head Sold Koki (farm)</th>\n",
       "      <th>Head Sold Market</th>\n",
       "      <th>Head Placed</th>\n",
       "      <th>...</th>\n",
       "      <th>AVG Vaccination Per K.g</th>\n",
       "      <th>AVG Vitamins Per K.g</th>\n",
       "      <th>day</th>\n",
       "      <th>month</th>\n",
       "      <th>year</th>\n",
       "      <th>season</th>\n",
       "      <th>period</th>\n",
       "      <th>medicin total</th>\n",
       "      <th>entity_code</th>\n",
       "      <th>Hatch Hatchery List_code</th>\n",
       "    </tr>\n",
       "  </thead>\n",
       "  <tbody>\n",
       "    <tr>\n",
       "      <th>count</th>\n",
       "      <td>12740.000000</td>\n",
       "      <td>12740.000000</td>\n",
       "      <td>12740.000000</td>\n",
       "      <td>12740.000000</td>\n",
       "      <td>12740.000000</td>\n",
       "      <td>12740.000000</td>\n",
       "      <td>12740.000000</td>\n",
       "      <td>12740.000000</td>\n",
       "      <td>12740.000000</td>\n",
       "      <td>12740.000000</td>\n",
       "      <td>...</td>\n",
       "      <td>12740.000000</td>\n",
       "      <td>12740.000000</td>\n",
       "      <td>12740.000000</td>\n",
       "      <td>12740.000000</td>\n",
       "      <td>12740.000000</td>\n",
       "      <td>12740.000000</td>\n",
       "      <td>12740.000000</td>\n",
       "      <td>12740.000000</td>\n",
       "      <td>12740.000000</td>\n",
       "      <td>12740.000000</td>\n",
       "    </tr>\n",
       "    <tr>\n",
       "      <th>mean</th>\n",
       "      <td>2017.439011</td>\n",
       "      <td>18.105436</td>\n",
       "      <td>0.046562</td>\n",
       "      <td>17369.288383</td>\n",
       "      <td>29188.795055</td>\n",
       "      <td>33.075432</td>\n",
       "      <td>6.478441</td>\n",
       "      <td>7977.665856</td>\n",
       "      <td>9391.622527</td>\n",
       "      <td>19542.551491</td>\n",
       "      <td>...</td>\n",
       "      <td>51.058516</td>\n",
       "      <td>5.911859</td>\n",
       "      <td>15.642700</td>\n",
       "      <td>6.584301</td>\n",
       "      <td>2017.531711</td>\n",
       "      <td>1.500863</td>\n",
       "      <td>3.531711</td>\n",
       "      <td>102.318352</td>\n",
       "      <td>175.501962</td>\n",
       "      <td>0.233909</td>\n",
       "    </tr>\n",
       "    <tr>\n",
       "      <th>std</th>\n",
       "      <td>1.723250</td>\n",
       "      <td>1.352495</td>\n",
       "      <td>0.409855</td>\n",
       "      <td>6434.134115</td>\n",
       "      <td>11486.374269</td>\n",
       "      <td>2.098533</td>\n",
       "      <td>2.706867</td>\n",
       "      <td>8154.707625</td>\n",
       "      <td>7930.345478</td>\n",
       "      <td>6881.963958</td>\n",
       "      <td>...</td>\n",
       "      <td>43.226708</td>\n",
       "      <td>6.967704</td>\n",
       "      <td>8.768801</td>\n",
       "      <td>3.482549</td>\n",
       "      <td>1.703471</td>\n",
       "      <td>0.500019</td>\n",
       "      <td>1.703471</td>\n",
       "      <td>88.311270</td>\n",
       "      <td>101.693706</td>\n",
       "      <td>0.423332</td>\n",
       "    </tr>\n",
       "    <tr>\n",
       "      <th>min</th>\n",
       "      <td>2014.000000</td>\n",
       "      <td>12.260000</td>\n",
       "      <td>0.000000</td>\n",
       "      <td>1.000000</td>\n",
       "      <td>1.000000</td>\n",
       "      <td>25.000000</td>\n",
       "      <td>0.000000</td>\n",
       "      <td>0.000000</td>\n",
       "      <td>0.000000</td>\n",
       "      <td>10250.000000</td>\n",
       "      <td>...</td>\n",
       "      <td>0.000000</td>\n",
       "      <td>0.000000</td>\n",
       "      <td>1.000000</td>\n",
       "      <td>1.000000</td>\n",
       "      <td>2015.000000</td>\n",
       "      <td>1.000000</td>\n",
       "      <td>1.000000</td>\n",
       "      <td>0.000000</td>\n",
       "      <td>0.000000</td>\n",
       "      <td>0.000000</td>\n",
       "    </tr>\n",
       "    <tr>\n",
       "      <th>25%</th>\n",
       "      <td>2016.000000</td>\n",
       "      <td>17.610000</td>\n",
       "      <td>0.040000</td>\n",
       "      <td>13830.000000</td>\n",
       "      <td>22898.750000</td>\n",
       "      <td>32.000000</td>\n",
       "      <td>4.500000</td>\n",
       "      <td>0.000000</td>\n",
       "      <td>0.000000</td>\n",
       "      <td>15370.000000</td>\n",
       "      <td>...</td>\n",
       "      <td>0.000000</td>\n",
       "      <td>0.000000</td>\n",
       "      <td>8.000000</td>\n",
       "      <td>4.000000</td>\n",
       "      <td>2016.000000</td>\n",
       "      <td>1.000000</td>\n",
       "      <td>2.000000</td>\n",
       "      <td>0.000000</td>\n",
       "      <td>87.000000</td>\n",
       "      <td>0.000000</td>\n",
       "    </tr>\n",
       "    <tr>\n",
       "      <th>50%</th>\n",
       "      <td>2017.000000</td>\n",
       "      <td>18.060000</td>\n",
       "      <td>0.043000</td>\n",
       "      <td>15675.000000</td>\n",
       "      <td>26670.000000</td>\n",
       "      <td>33.000000</td>\n",
       "      <td>6.350000</td>\n",
       "      <td>5655.000000</td>\n",
       "      <td>10885.000000</td>\n",
       "      <td>17850.000000</td>\n",
       "      <td>...</td>\n",
       "      <td>53.787000</td>\n",
       "      <td>4.522500</td>\n",
       "      <td>16.000000</td>\n",
       "      <td>7.000000</td>\n",
       "      <td>2018.000000</td>\n",
       "      <td>2.000000</td>\n",
       "      <td>4.000000</td>\n",
       "      <td>103.249500</td>\n",
       "      <td>176.000000</td>\n",
       "      <td>0.000000</td>\n",
       "    </tr>\n",
       "    <tr>\n",
       "      <th>75%</th>\n",
       "      <td>2019.000000</td>\n",
       "      <td>18.620000</td>\n",
       "      <td>0.046000</td>\n",
       "      <td>19620.000000</td>\n",
       "      <td>32905.000000</td>\n",
       "      <td>34.000000</td>\n",
       "      <td>8.000000</td>\n",
       "      <td>13900.000000</td>\n",
       "      <td>14750.000000</td>\n",
       "      <td>21930.000000</td>\n",
       "      <td>...</td>\n",
       "      <td>76.997500</td>\n",
       "      <td>8.420250</td>\n",
       "      <td>23.000000</td>\n",
       "      <td>10.000000</td>\n",
       "      <td>2019.000000</td>\n",
       "      <td>2.000000</td>\n",
       "      <td>5.000000</td>\n",
       "      <td>156.230000</td>\n",
       "      <td>262.000000</td>\n",
       "      <td>0.000000</td>\n",
       "    </tr>\n",
       "    <tr>\n",
       "      <th>max</th>\n",
       "      <td>2020.000000</td>\n",
       "      <td>25.570000</td>\n",
       "      <td>46.300000</td>\n",
       "      <td>65760.000000</td>\n",
       "      <td>131470.000000</td>\n",
       "      <td>43.000000</td>\n",
       "      <td>14.750000</td>\n",
       "      <td>61950.000000</td>\n",
       "      <td>62290.000000</td>\n",
       "      <td>70100.000000</td>\n",
       "      <td>...</td>\n",
       "      <td>516.423000</td>\n",
       "      <td>109.586000</td>\n",
       "      <td>31.000000</td>\n",
       "      <td>12.000000</td>\n",
       "      <td>2020.000000</td>\n",
       "      <td>2.000000</td>\n",
       "      <td>6.000000</td>\n",
       "      <td>1407.817000</td>\n",
       "      <td>351.000000</td>\n",
       "      <td>1.000000</td>\n",
       "    </tr>\n",
       "  </tbody>\n",
       "</table>\n",
       "<p>8 rows × 31 columns</p>\n",
       "</div>"
      ],
      "text/plain": [
       "               Year  Placement Density (chicks/m2)  Avg Chick Wt  \\\n",
       "count  12740.000000                   12740.000000  12740.000000   \n",
       "mean    2017.439011                      18.105436      0.046562   \n",
       "std        1.723250                       1.352495      0.409855   \n",
       "min     2014.000000                      12.260000      0.000000   \n",
       "25%     2016.000000                      17.610000      0.040000   \n",
       "50%     2017.000000                      18.060000      0.043000   \n",
       "75%     2019.000000                      18.620000      0.046000   \n",
       "max     2020.000000                      25.570000     46.300000   \n",
       "\n",
       "       Total Farm Head sold  Weight Sold (Farm)  Age - End of Sales  \\\n",
       "count          12740.000000        12740.000000        12740.000000   \n",
       "mean           17369.288383        29188.795055           33.075432   \n",
       "std             6434.134115        11486.374269            2.098533   \n",
       "min                1.000000            1.000000           25.000000   \n",
       "25%            13830.000000        22898.750000           32.000000   \n",
       "50%            15675.000000        26670.000000           33.000000   \n",
       "75%            19620.000000        32905.000000           34.000000   \n",
       "max            65760.000000       131470.000000           43.000000   \n",
       "\n",
       "       Avg Chick Cost  Head Sold Koki (farm)  Head Sold Market   Head Placed  \\\n",
       "count    12740.000000           12740.000000      12740.000000  12740.000000   \n",
       "mean         6.478441            7977.665856       9391.622527  19542.551491   \n",
       "std          2.706867            8154.707625       7930.345478   6881.963958   \n",
       "min          0.000000               0.000000          0.000000  10250.000000   \n",
       "25%          4.500000               0.000000          0.000000  15370.000000   \n",
       "50%          6.350000            5655.000000      10885.000000  17850.000000   \n",
       "75%          8.000000           13900.000000      14750.000000  21930.000000   \n",
       "max         14.750000           61950.000000      62290.000000  70100.000000   \n",
       "\n",
       "       ...  AVG Vaccination Per K.g  AVG Vitamins Per K.g           day  \\\n",
       "count  ...             12740.000000          12740.000000  12740.000000   \n",
       "mean   ...                51.058516              5.911859     15.642700   \n",
       "std    ...                43.226708              6.967704      8.768801   \n",
       "min    ...                 0.000000              0.000000      1.000000   \n",
       "25%    ...                 0.000000              0.000000      8.000000   \n",
       "50%    ...                53.787000              4.522500     16.000000   \n",
       "75%    ...                76.997500              8.420250     23.000000   \n",
       "max    ...               516.423000            109.586000     31.000000   \n",
       "\n",
       "              month          year        season        period  medicin total  \\\n",
       "count  12740.000000  12740.000000  12740.000000  12740.000000   12740.000000   \n",
       "mean       6.584301   2017.531711      1.500863      3.531711     102.318352   \n",
       "std        3.482549      1.703471      0.500019      1.703471      88.311270   \n",
       "min        1.000000   2015.000000      1.000000      1.000000       0.000000   \n",
       "25%        4.000000   2016.000000      1.000000      2.000000       0.000000   \n",
       "50%        7.000000   2018.000000      2.000000      4.000000     103.249500   \n",
       "75%       10.000000   2019.000000      2.000000      5.000000     156.230000   \n",
       "max       12.000000   2020.000000      2.000000      6.000000    1407.817000   \n",
       "\n",
       "        entity_code  Hatch Hatchery List_code  \n",
       "count  12740.000000              12740.000000  \n",
       "mean     175.501962                  0.233909  \n",
       "std      101.693706                  0.423332  \n",
       "min        0.000000                  0.000000  \n",
       "25%       87.000000                  0.000000  \n",
       "50%      176.000000                  0.000000  \n",
       "75%      262.000000                  0.000000  \n",
       "max      351.000000                  1.000000  \n",
       "\n",
       "[8 rows x 31 columns]"
      ]
     },
     "execution_count": 24,
     "metadata": {},
     "output_type": "execute_result"
    }
   ],
   "source": [
    "All_data.describe()"
   ]
  },
  {
   "cell_type": "markdown",
   "metadata": {},
   "source": [
    "## C-  handling outliers "
   ]
  },
  {
   "cell_type": "code",
   "execution_count": 25,
   "metadata": {},
   "outputs": [
    {
     "name": "stderr",
     "output_type": "stream",
     "text": [
      "<ipython-input-25-70f05e5a9d52>:4: SettingWithCopyWarning: \n",
      "A value is trying to be set on a copy of a slice from a DataFrame.\n",
      "Try using .loc[row_indexer,col_indexer] = value instead\n",
      "\n",
      "See the caveats in the documentation: https://pandas.pydata.org/pandas-docs/stable/user_guide/indexing.html#returning-a-view-versus-a-copy\n",
      "  All_data['Avg Chick Wt']= [np.nan if abs((x - median)) > std   else x  for x in All_data['Avg Chick Wt']]\n",
      "C:\\Users\\dados\\anaconda3\\lib\\site-packages\\pandas\\core\\generic.py:6245: SettingWithCopyWarning: \n",
      "A value is trying to be set on a copy of a slice from a DataFrame\n",
      "\n",
      "See the caveats in the documentation: https://pandas.pydata.org/pandas-docs/stable/user_guide/indexing.html#returning-a-view-versus-a-copy\n",
      "  self._update_inplace(new_data)\n"
     ]
    },
    {
     "data": {
      "image/png": "[encoded data removed]",
      "text/plain": [
       "<Figure size 432x288 with 1 Axes>"
      ]
     },
     "metadata": {
      "needs_background": "light"
     },
     "output_type": "display_data"
    }
   ],
   "source": [
    "ax1 = sns.boxplot(x=All_data[\"Avg Chick Wt\"])\n",
    "median = All_data['Avg Chick Wt'].median()\n",
    "std = All_data['Avg Chick Wt'].std()\n",
    "All_data['Avg Chick Wt']= [np.nan if abs((x - median)) > std   else x  for x in All_data['Avg Chick Wt']]\n",
    "All_data['Avg Chick Wt'].fillna(median, inplace=True)"
   ]
  },
  {
   "cell_type": "code",
   "execution_count": 26,
   "metadata": {},
   "outputs": [
    {
     "name": "stderr",
     "output_type": "stream",
     "text": [
      "<ipython-input-26-0402d382c603>:4: SettingWithCopyWarning: \n",
      "A value is trying to be set on a copy of a slice from a DataFrame.\n",
      "Try using .loc[row_indexer,col_indexer] = value instead\n",
      "\n",
      "See the caveats in the documentation: https://pandas.pydata.org/pandas-docs/stable/user_guide/indexing.html#returning-a-view-versus-a-copy\n",
      "  All_data['Avg Chick Wt']= [np.nan if abs((x - median)) > 0.02   else x  for x in All_data['Avg Chick Wt']]\n",
      "C:\\Users\\dados\\anaconda3\\lib\\site-packages\\pandas\\core\\generic.py:6245: SettingWithCopyWarning: \n",
      "A value is trying to be set on a copy of a slice from a DataFrame\n",
      "\n",
      "See the caveats in the documentation: https://pandas.pydata.org/pandas-docs/stable/user_guide/indexing.html#returning-a-view-versus-a-copy\n",
      "  self._update_inplace(new_data)\n"
     ]
    },
    {
     "data": {
      "image/png": "[encoded data removed]",
      "text/plain": [
       "<Figure size 432x288 with 1 Axes>"
      ]
     },
     "metadata": {
      "needs_background": "light"
     },
     "output_type": "display_data"
    }
   ],
   "source": [
    "ax1 = sns.boxplot(x=All_data[\"Avg Chick Wt\"])\n",
    "median = All_data['Avg Chick Wt'].median()\n",
    "std = All_data['Avg Chick Wt'].std()\n",
    "All_data['Avg Chick Wt']= [np.nan if abs((x - median)) > 0.02   else x  for x in All_data['Avg Chick Wt']]\n",
    "All_data['Avg Chick Wt'].fillna(median, inplace=True)"
   ]
  },
  {
   "cell_type": "code",
   "execution_count": 27,
   "metadata": {},
   "outputs": [
    {
     "data": {
      "text/plain": [
       "0.04"
      ]
     },
     "execution_count": 27,
     "metadata": {},
     "output_type": "execute_result"
    }
   ],
   "source": [
    "Q1 = np.median(All_data['Avg Chick Wt'][:10])\n",
    "Q1"
   ]
  },
  {
   "cell_type": "code",
   "execution_count": 28,
   "metadata": {},
   "outputs": [
    {
     "data": {
      "image/png": "[encoded data removed]",
      "text/plain": [
       "<Figure size 432x288 with 1 Axes>"
      ]
     },
     "metadata": {
      "needs_background": "light"
     },
     "output_type": "display_data"
    }
   ],
   "source": [
    "ax1 = sns.boxplot(x=All_data[\"Avg Chick Wt\"])"
   ]
  },
  {
   "cell_type": "code",
   "execution_count": 29,
   "metadata": {},
   "outputs": [
    {
     "name": "stderr",
     "output_type": "stream",
     "text": [
      "<ipython-input-29-7fc4245d8444>:4: SettingWithCopyWarning: \n",
      "A value is trying to be set on a copy of a slice from a DataFrame.\n",
      "Try using .loc[row_indexer,col_indexer] = value instead\n",
      "\n",
      "See the caveats in the documentation: https://pandas.pydata.org/pandas-docs/stable/user_guide/indexing.html#returning-a-view-versus-a-copy\n",
      "  All_data['Total Mortality Dead']= [np.nan if abs((x - median)) > 3000   else x  for x in All_data['Total Mortality Dead']]\n",
      "C:\\Users\\dados\\anaconda3\\lib\\site-packages\\pandas\\core\\generic.py:6245: SettingWithCopyWarning: \n",
      "A value is trying to be set on a copy of a slice from a DataFrame\n",
      "\n",
      "See the caveats in the documentation: https://pandas.pydata.org/pandas-docs/stable/user_guide/indexing.html#returning-a-view-versus-a-copy\n",
      "  self._update_inplace(new_data)\n"
     ]
    },
    {
     "data": {
      "image/png": "[encoded data removed]",
      "text/plain": [
       "<Figure size 432x288 with 1 Axes>"
      ]
     },
     "metadata": {
      "needs_background": "light"
     },
     "output_type": "display_data"
    }
   ],
   "source": [
    "ax1 = sns.boxplot(x=All_data[\"Total Mortality Dead\"])\n",
    "median = All_data['Total Mortality Dead'].median()\n",
    "std = All_data['Total Mortality Dead'].std()\n",
    "All_data['Total Mortality Dead']= [np.nan if abs((x - median)) > 3000   else x  for x in All_data['Total Mortality Dead']]\n",
    "All_data['Total Mortality Dead'].fillna(median, inplace=True)"
   ]
  },
  {
   "cell_type": "code",
   "execution_count": 30,
   "metadata": {},
   "outputs": [
    {
     "data": {
      "image/png": "[encoded data removed]",
      "text/plain": [
       "<Figure size 432x288 with 1 Axes>"
      ]
     },
     "metadata": {
      "needs_background": "light"
     },
     "output_type": "display_data"
    }
   ],
   "source": [
    "ax1 = sns.boxplot(x=All_data[\"Total Mortality Dead\"])"
   ]
  },
  {
   "cell_type": "code",
   "execution_count": 31,
   "metadata": {},
   "outputs": [
    {
     "data": {
      "text/plain": [
       "59.0"
      ]
     },
     "execution_count": 31,
     "metadata": {},
     "output_type": "execute_result"
    }
   ],
   "source": [
    "All_data['Cycle time (first placed date (next) - first placed date (current))'].median()"
   ]
  },
  {
   "cell_type": "code",
   "execution_count": 32,
   "metadata": {},
   "outputs": [
    {
     "name": "stderr",
     "output_type": "stream",
     "text": [
      "<ipython-input-32-b388e379b35e>:4: SettingWithCopyWarning: \n",
      "A value is trying to be set on a copy of a slice from a DataFrame.\n",
      "Try using .loc[row_indexer,col_indexer] = value instead\n",
      "\n",
      "See the caveats in the documentation: https://pandas.pydata.org/pandas-docs/stable/user_guide/indexing.html#returning-a-view-versus-a-copy\n",
      "  All_data['Cycle time (first placed date (next) - first placed date (current))']= [np.nan if abs((x - median)) > 30   else x  for x in All_data['Cycle time (first placed date (next) - first placed date (current))']]\n",
      "C:\\Users\\dados\\anaconda3\\lib\\site-packages\\pandas\\core\\generic.py:6245: SettingWithCopyWarning: \n",
      "A value is trying to be set on a copy of a slice from a DataFrame\n",
      "\n",
      "See the caveats in the documentation: https://pandas.pydata.org/pandas-docs/stable/user_guide/indexing.html#returning-a-view-versus-a-copy\n",
      "  self._update_inplace(new_data)\n"
     ]
    },
    {
     "data": {
      "image/png": "[encoded data removed]",
      "text/plain": [
       "<Figure size 432x288 with 1 Axes>"
      ]
     },
     "metadata": {
      "needs_background": "light"
     },
     "output_type": "display_data"
    }
   ],
   "source": [
    "ax1 = sns.boxplot(x=All_data[\"Cycle time (first placed date (next) - first placed date (current))\"])\n",
    "median = All_data['Cycle time (first placed date (next) - first placed date (current))'].median()\n",
    "std = All_data['Cycle time (first placed date (next) - first placed date (current))'].std()\n",
    "All_data['Cycle time (first placed date (next) - first placed date (current))']= [np.nan if abs((x - median)) > 30   else x  for x in All_data['Cycle time (first placed date (next) - first placed date (current))']]\n",
    "All_data['Cycle time (first placed date (next) - first placed date (current))'].fillna(median, inplace=True)\n"
   ]
  },
  {
   "cell_type": "code",
   "execution_count": 33,
   "metadata": {},
   "outputs": [
    {
     "data": {
      "image/png": "[encoded data removed]",
      "text/plain": [
       "<Figure size 432x288 with 1 Axes>"
      ]
     },
     "metadata": {
      "needs_background": "light"
     },
     "output_type": "display_data"
    }
   ],
   "source": [
    "ax1 = sns.boxplot(x=All_data[\"Cycle time (first placed date (next) - first placed date (current))\"])"
   ]
  },
  {
   "cell_type": "code",
   "execution_count": 34,
   "metadata": {},
   "outputs": [
    {
     "name": "stderr",
     "output_type": "stream",
     "text": [
      "<ipython-input-34-383a6fa4ac77>:4: SettingWithCopyWarning: \n",
      "A value is trying to be set on a copy of a slice from a DataFrame.\n",
      "Try using .loc[row_indexer,col_indexer] = value instead\n",
      "\n",
      "See the caveats in the documentation: https://pandas.pydata.org/pandas-docs/stable/user_guide/indexing.html#returning-a-view-versus-a-copy\n",
      "  All_data['Cleaning period']= [np.nan if abs((x - median)) > 35   else x  for x in All_data['Cleaning period']]\n",
      "C:\\Users\\dados\\anaconda3\\lib\\site-packages\\pandas\\core\\generic.py:6245: SettingWithCopyWarning: \n",
      "A value is trying to be set on a copy of a slice from a DataFrame\n",
      "\n",
      "See the caveats in the documentation: https://pandas.pydata.org/pandas-docs/stable/user_guide/indexing.html#returning-a-view-versus-a-copy\n",
      "  self._update_inplace(new_data)\n"
     ]
    },
    {
     "data": {
      "image/png": "[encoded data removed]",
      "text/plain": [
       "<Figure size 432x288 with 1 Axes>"
      ]
     },
     "metadata": {
      "needs_background": "light"
     },
     "output_type": "display_data"
    }
   ],
   "source": [
    "ax1 = sns.boxplot(x=All_data[\"Cleaning period\"])\n",
    "median = All_data['Cleaning period'].median()\n",
    "std = All_data['Cleaning period'].std()\n",
    "All_data['Cleaning period']= [np.nan if abs((x - median)) > 35   else x  for x in All_data['Cleaning period']]\n",
    "All_data['Cleaning period'].fillna(median, inplace=True)"
   ]
  },
  {
   "cell_type": "code",
   "execution_count": 35,
   "metadata": {},
   "outputs": [
    {
     "data": {
      "image/png": "[encoded data removed]",
      "text/plain": [
       "<Figure size 432x288 with 1 Axes>"
      ]
     },
     "metadata": {
      "needs_background": "light"
     },
     "output_type": "display_data"
    }
   ],
   "source": [
    "ax1 = sns.boxplot(x=All_data[\"Cleaning period\"])"
   ]
  },
  {
   "cell_type": "code",
   "execution_count": 36,
   "metadata": {},
   "outputs": [
    {
     "data": {
      "image/png": "[encoded data removed]",
      "text/plain": [
       "<Figure size 432x288 with 1 Axes>"
      ]
     },
     "metadata": {
      "needs_background": "light"
     },
     "output_type": "display_data"
    }
   ],
   "source": [
    "ax1 = sns.boxplot(x=All_data[\"Daily Wt Gain\"])"
   ]
  },
  {
   "cell_type": "code",
   "execution_count": 37,
   "metadata": {},
   "outputs": [
    {
     "data": {
      "image/png": "[encoded data removed]",
      "text/plain": [
       "<Figure size 432x288 with 1 Axes>"
      ]
     },
     "metadata": {
      "needs_background": "light"
     },
     "output_type": "display_data"
    }
   ],
   "source": [
    "ax1 = sns.boxplot(x=All_data[\"medicin total\"])"
   ]
  },
  {
   "cell_type": "code",
   "execution_count": 38,
   "metadata": {},
   "outputs": [
    {
     "data": {
      "text/plain": [
       "103.2495"
      ]
     },
     "execution_count": 38,
     "metadata": {},
     "output_type": "execute_result"
    }
   ],
   "source": [
    "All_data['medicin total'].median()"
   ]
  },
  {
   "cell_type": "code",
   "execution_count": 39,
   "metadata": {},
   "outputs": [
    {
     "name": "stderr",
     "output_type": "stream",
     "text": [
      "<ipython-input-39-c025c13392cd>:3: SettingWithCopyWarning: \n",
      "A value is trying to be set on a copy of a slice from a DataFrame.\n",
      "Try using .loc[row_indexer,col_indexer] = value instead\n",
      "\n",
      "See the caveats in the documentation: https://pandas.pydata.org/pandas-docs/stable/user_guide/indexing.html#returning-a-view-versus-a-copy\n",
      "  All_data['medicin total']= [np.nan if abs((x - median)) > 700   else x  for x in All_data['medicin total']]\n",
      "C:\\Users\\dados\\anaconda3\\lib\\site-packages\\pandas\\core\\generic.py:6245: SettingWithCopyWarning: \n",
      "A value is trying to be set on a copy of a slice from a DataFrame\n",
      "\n",
      "See the caveats in the documentation: https://pandas.pydata.org/pandas-docs/stable/user_guide/indexing.html#returning-a-view-versus-a-copy\n",
      "  self._update_inplace(new_data)\n"
     ]
    }
   ],
   "source": [
    "median = All_data['medicin total'].median()\n",
    "std = All_data['medicin total'].std()\n",
    "All_data['medicin total']= [np.nan if abs((x - median)) > 700   else x  for x in All_data['medicin total']]\n",
    "All_data['medicin total'].fillna(median, inplace=True)"
   ]
  },
  {
   "cell_type": "code",
   "execution_count": 40,
   "metadata": {},
   "outputs": [
    {
     "data": {
      "image/png": "[encoded data removed]",
      "text/plain": [
       "<Figure size 432x288 with 1 Axes>"
      ]
     },
     "metadata": {
      "needs_background": "light"
     },
     "output_type": "display_data"
    }
   ],
   "source": [
    "ax1 = sns.boxplot(x=All_data[\"medicin total\"])"
   ]
  },
  {
   "cell_type": "code",
   "execution_count": 41,
   "metadata": {},
   "outputs": [
    {
     "data": {
      "text/plain": [
       "1.53"
      ]
     },
     "execution_count": 41,
     "metadata": {},
     "output_type": "execute_result"
    }
   ],
   "source": [
    "All_data['Feed Conversion CPC'].median()"
   ]
  },
  {
   "cell_type": "code",
   "execution_count": 42,
   "metadata": {},
   "outputs": [
    {
     "name": "stderr",
     "output_type": "stream",
     "text": [
      "<ipython-input-42-85345eb4ff1d>:4: SettingWithCopyWarning: \n",
      "A value is trying to be set on a copy of a slice from a DataFrame.\n",
      "Try using .loc[row_indexer,col_indexer] = value instead\n",
      "\n",
      "See the caveats in the documentation: https://pandas.pydata.org/pandas-docs/stable/user_guide/indexing.html#returning-a-view-versus-a-copy\n",
      "  All_data['Feed Conversion CPC']= [np.nan if abs((x - median)) > 2.5   else x  for x in All_data['Feed Conversion CPC']]\n",
      "C:\\Users\\dados\\anaconda3\\lib\\site-packages\\pandas\\core\\generic.py:6245: SettingWithCopyWarning: \n",
      "A value is trying to be set on a copy of a slice from a DataFrame\n",
      "\n",
      "See the caveats in the documentation: https://pandas.pydata.org/pandas-docs/stable/user_guide/indexing.html#returning-a-view-versus-a-copy\n",
      "  self._update_inplace(new_data)\n"
     ]
    },
    {
     "data": {
      "image/png": "[encoded data removed]",
      "text/plain": [
       "<Figure size 432x288 with 1 Axes>"
      ]
     },
     "metadata": {
      "needs_background": "light"
     },
     "output_type": "display_data"
    }
   ],
   "source": [
    "ax1 = sns.boxplot(x=All_data[\"Feed Conversion CPC\"])\n",
    "median = All_data['Feed Conversion CPC'].median()\n",
    "std = All_data['Feed Conversion CPC'].std()\n",
    "All_data['Feed Conversion CPC']= [np.nan if abs((x - median)) > 2.5   else x  for x in All_data['Feed Conversion CPC']]\n",
    "All_data['Feed Conversion CPC'].fillna(median, inplace=True)"
   ]
  },
  {
   "cell_type": "code",
   "execution_count": 43,
   "metadata": {},
   "outputs": [
    {
     "data": {
      "image/png": "[encoded data removed]",
      "text/plain": [
       "<Figure size 432x288 with 1 Axes>"
      ]
     },
     "metadata": {
      "needs_background": "light"
     },
     "output_type": "display_data"
    }
   ],
   "source": [
    "ax1 = sns.boxplot(x=All_data[\"Feed Conversion CPC\"])"
   ]
  },
  {
   "cell_type": "markdown",
   "metadata": {},
   "source": [
    "## D-  Standardizing data "
   ]
  },
  {
   "cell_type": "code",
   "execution_count": 44,
   "metadata": {},
   "outputs": [],
   "source": [
    "from sklearn.preprocessing import StandardScaler"
   ]
  },
  {
   "cell_type": "code",
   "execution_count": 45,
   "metadata": {},
   "outputs": [
    {
     "name": "stderr",
     "output_type": "stream",
     "text": [
      "<ipython-input-45-6abecf20fae5>:1: SettingWithCopyWarning: \n",
      "A value is trying to be set on a copy of a slice from a DataFrame.\n",
      "Try using .loc[row_indexer,col_indexer] = value instead\n",
      "\n",
      "See the caveats in the documentation: https://pandas.pydata.org/pandas-docs/stable/user_guide/indexing.html#returning-a-view-versus-a-copy\n",
      "  All_data[['Placement Density (chicks/m2)', 'Avg Chick Wt', 'Age - End of Sales', 'Total Mortality Dead', 'Feed Conversion CPC', 'Daily Wt Gain','Cycle time (first placed date (next) - first placed date (current))', 'Cleaning period', 'medicin total']] = StandardScaler().fit_transform(All_data[['Placement Density (chicks/m2)', 'Avg Chick Wt', 'Age - End of Sales', 'Total Mortality Dead', 'Feed Conversion CPC', 'Daily Wt Gain','Cycle time (first placed date (next) - first placed date (current))', 'Cleaning period', 'medicin total']])\n",
      "C:\\Users\\dados\\anaconda3\\lib\\site-packages\\pandas\\core\\indexing.py:966: SettingWithCopyWarning: \n",
      "A value is trying to be set on a copy of a slice from a DataFrame.\n",
      "Try using .loc[row_indexer,col_indexer] = value instead\n",
      "\n",
      "See the caveats in the documentation: https://pandas.pydata.org/pandas-docs/stable/user_guide/indexing.html#returning-a-view-versus-a-copy\n",
      "  self.obj[item] = s\n"
     ]
    }
   ],
   "source": [
    "All_data[['Placement Density (chicks/m2)', 'Avg Chick Wt', 'Age - End of Sales', 'Total Mortality Dead', 'Feed Conversion CPC', 'Daily Wt Gain','Cycle time (first placed date (next) - first placed date (current))', 'Cleaning period', 'medicin total']] = StandardScaler().fit_transform(All_data[['Placement Density (chicks/m2)', 'Avg Chick Wt', 'Age - End of Sales', 'Total Mortality Dead', 'Feed Conversion CPC', 'Daily Wt Gain','Cycle time (first placed date (next) - first placed date (current))', 'Cleaning period', 'medicin total']])"
   ]
  },
  {
   "cell_type": "markdown",
   "metadata": {},
   "source": [
    "# 2- Data exploration Explore features or charecteristics to predict\n",
    "\n",
    "\n",
    "## Objectives\n",
    "\n",
    "-   histograms\n",
    "-   correlation \n",
    "-   ANOVA\n"
   ]
  },
  {
   "cell_type": "markdown",
   "metadata": {},
   "source": [
    "#### a- show histogram for numeric features"
   ]
  },
  {
   "cell_type": "code",
   "execution_count": 46,
   "metadata": {},
   "outputs": [
    {
     "data": {
      "image/png": "[encoded data removed]",
      "text/plain": [
       "<Figure size 1080x1080 with 9 Axes>"
      ]
     },
     "metadata": {
      "needs_background": "light"
     },
     "output_type": "display_data"
    }
   ],
   "source": [
    "All_data[['Placement Density (chicks/m2)', 'Avg Chick Wt', 'Age - End of Sales', 'Total Mortality Dead', 'Feed Conversion CPC', 'Daily Wt Gain','Cycle time (first placed date (next) - first placed date (current))', 'Cleaning period', 'medicin total']].hist(bins=10, figsize=(15,15))\n",
    "plt.show()"
   ]
  },
  {
   "cell_type": "markdown",
   "metadata": {},
   "source": [
    "#### b- chats for categorial features"
   ]
  },
  {
   "cell_type": "code",
   "execution_count": 47,
   "metadata": {},
   "outputs": [
    {
     "data": {
      "text/plain": [
       "Text(0.5, 0.9, 'Hatch Hatchery List')"
      ]
     },
     "execution_count": 47,
     "metadata": {},
     "output_type": "execute_result"
    },
    {
     "data": {
      "image/png": "[encoded data removed]",
      "text/plain": [
       "<Figure size 360x360 with 1 Axes>"
      ]
     },
     "metadata": {
      "needs_background": "light"
     },
     "output_type": "display_data"
    }
   ],
   "source": [
    "All_data['Hatch Hatchery List'].value_counts().plot.bar(x='Hatch Hatchery List', figsize=(5, 5), color=['red', 'orange'])\n",
    "plt.figtext(0.5,.9,'Hatch Hatchery List',fontsize=30,ha='center')"
   ]
  },
  {
   "cell_type": "markdown",
   "metadata": {},
   "source": [
    "#### c- correlation matrix"
   ]
  },
  {
   "cell_type": "code",
   "execution_count": 48,
   "metadata": {},
   "outputs": [
    {
     "data": {
      "image/png": "[encoded data removed]",
      "text/plain": [
       "<Figure size 1080x1080 with 2 Axes>"
      ]
     },
     "metadata": {
      "needs_background": "light"
     },
     "output_type": "display_data"
    }
   ],
   "source": [
    "corrlation_matrix = plt.subplots(figsize=(15, 15))\n",
    "corrlation_matrix =sns.heatmap(All_data[['Total Mortality Dead','Placement Density (chicks/m2)', 'Avg Chick Wt', 'Age - End of Sales',  'Feed Conversion CPC', 'Daily Wt Gain','Cycle time (first placed date (next) - first placed date (current))', 'Cleaning period', 'medicin total']].corr(),annot=True, linewidth=0.5)"
   ]
  },
  {
   "cell_type": "markdown",
   "metadata": {},
   "source": [
    "#### d- T test for two independent sample"
   ]
  },
  {
   "cell_type": "markdown",
   "metadata": {},
   "source": [
    "###### I: mortality grouped by Hatchery"
   ]
  },
  {
   "cell_type": "code",
   "execution_count": 49,
   "metadata": {},
   "outputs": [
    {
     "data": {
      "text/plain": [
       "Ttest_indResult(statistic=1.3744962446424005, pvalue=0.1693118552044736)"
      ]
     },
     "execution_count": 49,
     "metadata": {},
     "output_type": "execute_result"
    }
   ],
   "source": [
    "from scipy.stats import ttest_ind\n",
    "\n",
    "NOBBH_mortality = All_data[All_data['Hatch Hatchery List'] == 'NOBBH']['Total Mortality Dead']\n",
    "RAMBH_mortality= All_data[All_data['Hatch Hatchery List'] == 'RAMBH']['Total Mortality Dead']\n",
    "stats.ttest_ind(NOBBH_mortality, RAMBH_mortality) "
   ]
  },
  {
   "cell_type": "markdown",
   "metadata": {},
   "source": [
    "###### II: mortality grouped by season"
   ]
  },
  {
   "cell_type": "code",
   "execution_count": 50,
   "metadata": {},
   "outputs": [
    {
     "data": {
      "text/plain": [
       "Ttest_indResult(statistic=13.364470234258505, pvalue=1.8261543588427798e-40)"
      ]
     },
     "execution_count": 50,
     "metadata": {},
     "output_type": "execute_result"
    }
   ],
   "source": [
    "winter_mortality = All_data[All_data['season'] == 1]['Total Mortality Dead']\n",
    "summer_mortality= All_data[All_data['season'] == 2]['Total Mortality Dead']\n",
    "stats.ttest_ind(winter_mortality, summer_mortality) "
   ]
  },
  {
   "cell_type": "markdown",
   "metadata": {},
   "source": [
    "there are significnt differance in mortality based on season as p-value is less than 0.05"
   ]
  },
  {
   "cell_type": "markdown",
   "metadata": {},
   "source": [
    "#### e- ANOVA test "
   ]
  },
  {
   "cell_type": "markdown",
   "metadata": {},
   "source": [
    "###### I: mortality grouped by entity"
   ]
  },
  {
   "cell_type": "code",
   "execution_count": 51,
   "metadata": {},
   "outputs": [
    {
     "name": "stdout",
     "output_type": "stream",
     "text": [
      "5.170437233584981 1.7535673825506694e-178\n"
     ]
    }
   ],
   "source": [
    "from scipy import stats\n",
    "grps = [d['Total Mortality Dead'].tolist() for _, d in All_data.groupby('entity')]\n",
    "F, p = stats.f_oneway(*grps)\n",
    "print(F, p)"
   ]
  },
  {
   "cell_type": "markdown",
   "metadata": {},
   "source": [
    "there are significnt differance in mortality based on entity as p-value is less than 0.05"
   ]
  },
  {
   "cell_type": "markdown",
   "metadata": {},
   "source": [
    "###### II: mortality grouped by month"
   ]
  },
  {
   "cell_type": "code",
   "execution_count": 52,
   "metadata": {},
   "outputs": [
    {
     "name": "stdout",
     "output_type": "stream",
     "text": [
      "48.14731087490903 2.726962389252772e-104\n"
     ]
    }
   ],
   "source": [
    "grps1 = [d['Total Mortality Dead'].tolist() for _, d in All_data.groupby('month')]\n",
    "F1, p1 = stats.f_oneway(*grps1)\n",
    "print(F1, p1)"
   ]
  },
  {
   "cell_type": "markdown",
   "metadata": {},
   "source": [
    "there are significnt differance in mortality based on month as p-value is less than 0.05"
   ]
  },
  {
   "cell_type": "markdown",
   "metadata": {},
   "source": [
    "###### III: mortality grouped by period"
   ]
  },
  {
   "cell_type": "code",
   "execution_count": 53,
   "metadata": {},
   "outputs": [
    {
     "name": "stdout",
     "output_type": "stream",
     "text": [
      "66.15311326570367 1.9213382969399624e-68\n"
     ]
    }
   ],
   "source": [
    "grps2 = [d['Total Mortality Dead'].tolist() for _, d in All_data.groupby('period')]\n",
    "F2, p2 = stats.f_oneway(*grps2)\n",
    "print(F2, p2)"
   ]
  },
  {
   "cell_type": "markdown",
   "metadata": {},
   "source": [
    "there are significnt differance in mortality based on period as p-value is less than 0.05"
   ]
  },
  {
   "cell_type": "markdown",
   "metadata": {},
   "source": [
    "# 3- Model Development\n",
    "\n",
    "## Objective:\n",
    "\n",
    "-   Develop prediction models"
   ]
  },
  {
   "cell_type": "markdown",
   "metadata": {},
   "source": [
    "### A) linear regression "
   ]
  },
  {
   "cell_type": "code",
   "execution_count": 54,
   "metadata": {},
   "outputs": [],
   "source": [
    "from sklearn import preprocessing\n",
    "from sklearn.linear_model import SGDRegressor\n",
    "from sklearn.model_selection import train_test_split"
   ]
  },
  {
   "cell_type": "markdown",
   "metadata": {},
   "source": [
    "##### a)split features and lables"
   ]
  },
  {
   "cell_type": "code",
   "execution_count": 55,
   "metadata": {},
   "outputs": [],
   "source": [
    "x=All_data[['Placement Density (chicks/m2)','Avg Chick Wt','Feed Conversion CPC','Daily Wt Gain', 'Cycle time (first placed date (next) - first placed date (current))','Cleaning period','month','season','period','medicin total','entity_code','Hatch Hatchery List_code']]\n",
    "y=All_data['Total Mortality Dead']"
   ]
  },
  {
   "cell_type": "markdown",
   "metadata": {},
   "source": [
    "##### b)stepwise regression to determine which feature are important and which to remove "
   ]
  },
  {
   "cell_type": "code",
   "execution_count": 56,
   "metadata": {},
   "outputs": [
    {
     "name": "stderr",
     "output_type": "stream",
     "text": [
      "<ipython-input-56-3a83d1da4f67>:25: DeprecationWarning: The default dtype for empty Series will be 'object' instead of 'float64' in a future version. Specify a dtype explicitly to silence this warning.\n",
      "  new_pval = pd.Series(index=excluded)\n"
     ]
    },
    {
     "name": "stdout",
     "output_type": "stream",
     "text": [
      "Add  Daily Wt Gain                  with p-value 0.0\n",
      "Add  period                         with p-value 4.60817e-83\n",
      "Add  Placement Density (chicks/m2)  with p-value 1.17087e-52\n",
      "Add  Feed Conversion CPC            with p-value 1.13136e-62\n",
      "Add  month                          with p-value 4.80091e-23\n",
      "Add  medicin total                  with p-value 1.11367e-16\n",
      "Add  season                         with p-value 3.66818e-06\n",
      "Add  Hatch Hatchery List_code       with p-value 2.18813e-05\n",
      "Add  Cycle time (first placed date (next) - first placed date (current)) with p-value 0.000123546\n",
      "Add  Cleaning period                with p-value 5.80274e-12\n",
      "resulting features:\n",
      "['Daily Wt Gain', 'period', 'Placement Density (chicks/m2)', 'Feed Conversion CPC', 'month', 'medicin total', 'season', 'Hatch Hatchery List_code', 'Cycle time (first placed date (next) - first placed date (current))', 'Cleaning period']\n"
     ]
    }
   ],
   "source": [
    "import statsmodels.api as sm\n",
    "def stepwise_selection(X, y, \n",
    "                           initial_list=[], \n",
    "                           threshold_in=0.01, \n",
    "                           threshold_out = 0.05, \n",
    "                           verbose=True):\n",
    "        \"\"\" Perform a forward-backward feature selection \n",
    "        based on p-value from statsmodels.api.OLS\n",
    "        Arguments:\n",
    "            X - pandas.DataFrame with candidate features\n",
    "            y - list-like with the target\n",
    "            initial_list - list of features to start with (column names of X)\n",
    "            threshold_in - include a feature if its p-value < threshold_in\n",
    "            threshold_out - exclude a feature if its p-value > threshold_out\n",
    "            verbose - whether to print the sequence of inclusions and exclusions\n",
    "        Returns: list of selected features \n",
    "        Always set threshold_in < threshold_out to avoid infinite looping.\n",
    "        See https://en.wikipedia.org/wiki/Stepwise_regression for the details\n",
    "        \"\"\"\n",
    "        included = list(initial_list)\n",
    "        while True:\n",
    "            changed=False\n",
    "            # forward step\n",
    "            excluded = list(set(X.columns)-set(included))\n",
    "            new_pval = pd.Series(index=excluded)\n",
    "            for new_column in excluded:\n",
    "                model = sm.OLS(y, sm.add_constant(pd.DataFrame(X[included+[new_column]]))).fit()\n",
    "                new_pval[new_column] = model.pvalues[new_column]\n",
    "            best_pval = new_pval.min()\n",
    "            if best_pval < threshold_in:\n",
    "                best_feature = new_pval.idxmin()\n",
    "                included.append(best_feature)\n",
    "                changed=True\n",
    "                if verbose:\n",
    "                    print('Add  {:30} with p-value {:.6}'.format(best_feature, best_pval))\n",
    "\n",
    "            # backward step\n",
    "            model = sm.OLS(y, sm.add_constant(pd.DataFrame(X[included]))).fit()\n",
    "            # use all coefs except intercept\n",
    "            pvalues = model.pvalues.iloc[1:]\n",
    "            worst_pval = pvalues.max() # null if pvalues is empty\n",
    "            if worst_pval > threshold_out:\n",
    "                changed=True\n",
    "                worst_feature = pvalues.idxmax()\n",
    "                included.remove(worst_feature)\n",
    "                if verbose:\n",
    "                    print('Drop {:30} with p-value {:.6}'.format(worst_feature, worst_pval))\n",
    "            if not changed:\n",
    "                break\n",
    "        return included\n",
    "    \n",
    "result = stepwise_selection(x,y)\n",
    "print('resulting features:')\n",
    "print(result)\n"
   ]
  },
  {
   "cell_type": "markdown",
   "metadata": {},
   "source": [
    "##### c)Multi regression to with  important features "
   ]
  },
  {
   "cell_type": "code",
   "execution_count": 57,
   "metadata": {},
   "outputs": [],
   "source": [
    "Z = All_data[['Daily Wt Gain', 'period', 'Placement Density (chicks/m2)', 'Feed Conversion CPC', 'month', 'medicin total', 'season', 'Hatch Hatchery List_code', 'Cycle time (first placed date (next) - first placed date (current))', 'Cleaning period']]"
   ]
  },
  {
   "cell_type": "code",
   "execution_count": 58,
   "metadata": {},
   "outputs": [
    {
     "data": {
      "text/plain": [
       "LinearRegression()"
      ]
     },
     "execution_count": 58,
     "metadata": {},
     "output_type": "execute_result"
    }
   ],
   "source": [
    "from sklearn.linear_model import LinearRegression\n",
    "lm = LinearRegression()\n",
    "lm.fit(Z, All_data['Total Mortality Dead'])"
   ]
  },
  {
   "cell_type": "code",
   "execution_count": 59,
   "metadata": {},
   "outputs": [
    {
     "data": {
      "text/plain": [
       "-0.028582971505096973"
      ]
     },
     "execution_count": 59,
     "metadata": {},
     "output_type": "execute_result"
    }
   ],
   "source": [
    "lm.intercept_"
   ]
  },
  {
   "cell_type": "code",
   "execution_count": 60,
   "metadata": {},
   "outputs": [
    {
     "data": {
      "text/plain": [
       "array([-0.34152507,  0.07873736,  0.13853222,  0.13358919, -0.01966684,\n",
       "        0.06626978, -0.09293115,  0.08325794,  0.10050195, -0.09139273])"
      ]
     },
     "execution_count": 60,
     "metadata": {},
     "output_type": "execute_result"
    }
   ],
   "source": [
    "lm.coef_"
   ]
  },
  {
   "cell_type": "markdown",
   "metadata": {},
   "source": [
    "the linear function we get is \n",
    "\n",
    "Total Mortality Dead= -0.028582971505096973-0.34152507 Daily Wt Gain + 0.07873736 period + 0.13853222 Placement Density +  0.13358919 Feed Conversion -0.01966684 month + 0.06626978 medicin total-0.09293115 season + 0.08325794 Hatchery  + 0.10050195Cycle time -0.09139273 Cleaning period"
   ]
  },
  {
   "cell_type": "markdown",
   "metadata": {},
   "source": [
    "##### d) Model Evaluation"
   ]
  },
  {
   "cell_type": "code",
   "execution_count": 61,
   "metadata": {},
   "outputs": [
    {
     "name": "stdout",
     "output_type": "stream",
     "text": [
      "The R-square is:  0.2699533892276642\n"
     ]
    }
   ],
   "source": [
    "#calculate the R^2\n",
    "# fit the model \n",
    "lm.fit(Z, All_data['Total Mortality Dead'])\n",
    "# Find the R^2\n",
    "print('The R-square is: ', lm.score(Z, All_data['Total Mortality Dead']))"
   ]
  },
  {
   "cell_type": "markdown",
   "metadata": {},
   "source": [
    "We can say that ~ 27 % of the variation of Mortality is explained by this multiple linear regression \"multi_fit\"."
   ]
  },
  {
   "cell_type": "code",
   "execution_count": 62,
   "metadata": {},
   "outputs": [
    {
     "name": "stdout",
     "output_type": "stream",
     "text": [
      "The mean square error of price and predicted value using multifit is:  0.7300466107723358\n"
     ]
    }
   ],
   "source": [
    "#calculate the MSE\n",
    "from sklearn.metrics import mean_squared_error\n",
    "Y_predict_multifit = lm.predict(Z)\n",
    "print('The mean square error of price and predicted value using multifit is: ', \\\n",
    "      mean_squared_error(All_data['Total Mortality Dead'], Y_predict_multifit))"
   ]
  },
  {
   "cell_type": "code",
   "execution_count": null,
   "metadata": {},
   "outputs": [],
   "source": []
  }
 ],
 "metadata": {
  "kernelspec": {
   "display_name": "Python 3",
   "language": "python",
   "name": "python3"
  },
  "language_info": {
   "codemirror_mode": {
    "name": "ipython",
    "version": 3
   },
   "file_extension": ".py",
   "mimetype": "text/x-python",
   "name": "python",
   "nbconvert_exporter": "python",
   "pygments_lexer": "ipython3",
   "version": "3.8.3"
  }
 },
 "nbformat": 4,
 "nbformat_minor": 4
}
